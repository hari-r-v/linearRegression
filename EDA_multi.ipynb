{
 "cells": [
  {
   "cell_type": "code",
   "execution_count": 1,
   "metadata": {},
   "outputs": [],
   "source": [
    "import numpy as np\n",
    "import pandas as pd\n",
    "import matplotlib.pyplot as plt\n",
    "import seaborn as sns"
   ]
  },
  {
   "cell_type": "code",
   "execution_count": 2,
   "metadata": {},
   "outputs": [],
   "source": [
    "housing=pd.read_csv('src_data/housing.csv')"
   ]
  },
  {
   "cell_type": "code",
   "execution_count": 3,
   "metadata": {},
   "outputs": [
    {
     "data": {
      "text/html": [
       "<div>\n",
       "<style scoped>\n",
       "    .dataframe tbody tr th:only-of-type {\n",
       "        vertical-align: middle;\n",
       "    }\n",
       "\n",
       "    .dataframe tbody tr th {\n",
       "        vertical-align: top;\n",
       "    }\n",
       "\n",
       "    .dataframe thead th {\n",
       "        text-align: right;\n",
       "    }\n",
       "</style>\n",
       "<table border=\"1\" class=\"dataframe\">\n",
       "  <thead>\n",
       "    <tr style=\"text-align: right;\">\n",
       "      <th></th>\n",
       "      <th>id</th>\n",
       "      <th>date</th>\n",
       "      <th>price</th>\n",
       "      <th>bedrooms</th>\n",
       "      <th>bathrooms</th>\n",
       "      <th>sqft_living</th>\n",
       "      <th>sqft_lot</th>\n",
       "      <th>floors</th>\n",
       "      <th>waterfront</th>\n",
       "      <th>view</th>\n",
       "      <th>...</th>\n",
       "      <th>grade</th>\n",
       "      <th>sqft_above</th>\n",
       "      <th>sqft_basement</th>\n",
       "      <th>yr_built</th>\n",
       "      <th>yr_renovated</th>\n",
       "      <th>zipcode</th>\n",
       "      <th>lat</th>\n",
       "      <th>long</th>\n",
       "      <th>sqft_living15</th>\n",
       "      <th>sqft_lot15</th>\n",
       "    </tr>\n",
       "  </thead>\n",
       "  <tbody>\n",
       "    <tr>\n",
       "      <th>0</th>\n",
       "      <td>7129300520</td>\n",
       "      <td>20141013T000000</td>\n",
       "      <td>221900</td>\n",
       "      <td>3</td>\n",
       "      <td>1.00</td>\n",
       "      <td>1180</td>\n",
       "      <td>5650</td>\n",
       "      <td>1.0</td>\n",
       "      <td>0</td>\n",
       "      <td>0</td>\n",
       "      <td>...</td>\n",
       "      <td>7</td>\n",
       "      <td>1180</td>\n",
       "      <td>0</td>\n",
       "      <td>1955</td>\n",
       "      <td>0</td>\n",
       "      <td>98178</td>\n",
       "      <td>47.5112</td>\n",
       "      <td>-122.257</td>\n",
       "      <td>1340</td>\n",
       "      <td>5650</td>\n",
       "    </tr>\n",
       "    <tr>\n",
       "      <th>1</th>\n",
       "      <td>6414100192</td>\n",
       "      <td>20141209T000000</td>\n",
       "      <td>538000</td>\n",
       "      <td>3</td>\n",
       "      <td>2.25</td>\n",
       "      <td>2570</td>\n",
       "      <td>7242</td>\n",
       "      <td>2.0</td>\n",
       "      <td>0</td>\n",
       "      <td>0</td>\n",
       "      <td>...</td>\n",
       "      <td>7</td>\n",
       "      <td>2170</td>\n",
       "      <td>400</td>\n",
       "      <td>1951</td>\n",
       "      <td>1991</td>\n",
       "      <td>98125</td>\n",
       "      <td>47.7210</td>\n",
       "      <td>-122.319</td>\n",
       "      <td>1690</td>\n",
       "      <td>7639</td>\n",
       "    </tr>\n",
       "    <tr>\n",
       "      <th>2</th>\n",
       "      <td>5631500400</td>\n",
       "      <td>20150225T000000</td>\n",
       "      <td>180000</td>\n",
       "      <td>2</td>\n",
       "      <td>1.00</td>\n",
       "      <td>770</td>\n",
       "      <td>10000</td>\n",
       "      <td>1.0</td>\n",
       "      <td>0</td>\n",
       "      <td>0</td>\n",
       "      <td>...</td>\n",
       "      <td>6</td>\n",
       "      <td>770</td>\n",
       "      <td>0</td>\n",
       "      <td>1933</td>\n",
       "      <td>0</td>\n",
       "      <td>98028</td>\n",
       "      <td>47.7379</td>\n",
       "      <td>-122.233</td>\n",
       "      <td>2720</td>\n",
       "      <td>8062</td>\n",
       "    </tr>\n",
       "    <tr>\n",
       "      <th>3</th>\n",
       "      <td>2487200875</td>\n",
       "      <td>20141209T000000</td>\n",
       "      <td>604000</td>\n",
       "      <td>4</td>\n",
       "      <td>3.00</td>\n",
       "      <td>1960</td>\n",
       "      <td>5000</td>\n",
       "      <td>1.0</td>\n",
       "      <td>0</td>\n",
       "      <td>0</td>\n",
       "      <td>...</td>\n",
       "      <td>7</td>\n",
       "      <td>1050</td>\n",
       "      <td>910</td>\n",
       "      <td>1965</td>\n",
       "      <td>0</td>\n",
       "      <td>98136</td>\n",
       "      <td>47.5208</td>\n",
       "      <td>-122.393</td>\n",
       "      <td>1360</td>\n",
       "      <td>5000</td>\n",
       "    </tr>\n",
       "    <tr>\n",
       "      <th>4</th>\n",
       "      <td>1954400510</td>\n",
       "      <td>20150218T000000</td>\n",
       "      <td>510000</td>\n",
       "      <td>3</td>\n",
       "      <td>2.00</td>\n",
       "      <td>1680</td>\n",
       "      <td>8080</td>\n",
       "      <td>1.0</td>\n",
       "      <td>0</td>\n",
       "      <td>0</td>\n",
       "      <td>...</td>\n",
       "      <td>8</td>\n",
       "      <td>1680</td>\n",
       "      <td>0</td>\n",
       "      <td>1987</td>\n",
       "      <td>0</td>\n",
       "      <td>98074</td>\n",
       "      <td>47.6168</td>\n",
       "      <td>-122.045</td>\n",
       "      <td>1800</td>\n",
       "      <td>7503</td>\n",
       "    </tr>\n",
       "  </tbody>\n",
       "</table>\n",
       "<p>5 rows × 21 columns</p>\n",
       "</div>"
      ],
      "text/plain": [
       "           id             date   price  bedrooms  bathrooms  sqft_living  \\\n",
       "0  7129300520  20141013T000000  221900         3       1.00         1180   \n",
       "1  6414100192  20141209T000000  538000         3       2.25         2570   \n",
       "2  5631500400  20150225T000000  180000         2       1.00          770   \n",
       "3  2487200875  20141209T000000  604000         4       3.00         1960   \n",
       "4  1954400510  20150218T000000  510000         3       2.00         1680   \n",
       "\n",
       "   sqft_lot  floors  waterfront  view  ...  grade  sqft_above  sqft_basement  \\\n",
       "0      5650     1.0           0     0  ...      7        1180              0   \n",
       "1      7242     2.0           0     0  ...      7        2170            400   \n",
       "2     10000     1.0           0     0  ...      6         770              0   \n",
       "3      5000     1.0           0     0  ...      7        1050            910   \n",
       "4      8080     1.0           0     0  ...      8        1680              0   \n",
       "\n",
       "   yr_built  yr_renovated  zipcode      lat     long  sqft_living15  \\\n",
       "0      1955             0    98178  47.5112 -122.257           1340   \n",
       "1      1951          1991    98125  47.7210 -122.319           1690   \n",
       "2      1933             0    98028  47.7379 -122.233           2720   \n",
       "3      1965             0    98136  47.5208 -122.393           1360   \n",
       "4      1987             0    98074  47.6168 -122.045           1800   \n",
       "\n",
       "   sqft_lot15  \n",
       "0        5650  \n",
       "1        7639  \n",
       "2        8062  \n",
       "3        5000  \n",
       "4        7503  \n",
       "\n",
       "[5 rows x 21 columns]"
      ]
     },
     "execution_count": 3,
     "metadata": {},
     "output_type": "execute_result"
    }
   ],
   "source": [
    "housing.head()"
   ]
  },
  {
   "cell_type": "code",
   "execution_count": 4,
   "metadata": {},
   "outputs": [
    {
     "name": "stdout",
     "output_type": "stream",
     "text": [
      "<class 'pandas.core.frame.DataFrame'>\n",
      "RangeIndex: 21613 entries, 0 to 21612\n",
      "Data columns (total 21 columns):\n",
      " #   Column         Non-Null Count  Dtype  \n",
      "---  ------         --------------  -----  \n",
      " 0   id             21613 non-null  int64  \n",
      " 1   date           21613 non-null  object \n",
      " 2   price          21613 non-null  int64  \n",
      " 3   bedrooms       21613 non-null  int64  \n",
      " 4   bathrooms      21613 non-null  float64\n",
      " 5   sqft_living    21613 non-null  int64  \n",
      " 6   sqft_lot       21613 non-null  int64  \n",
      " 7   floors         21613 non-null  float64\n",
      " 8   waterfront     21613 non-null  int64  \n",
      " 9   view           21613 non-null  int64  \n",
      " 10  condition      21613 non-null  int64  \n",
      " 11  grade          21613 non-null  int64  \n",
      " 12  sqft_above     21613 non-null  int64  \n",
      " 13  sqft_basement  21613 non-null  int64  \n",
      " 14  yr_built       21613 non-null  int64  \n",
      " 15  yr_renovated   21613 non-null  int64  \n",
      " 16  zipcode        21613 non-null  int64  \n",
      " 17  lat            21613 non-null  float64\n",
      " 18  long           21613 non-null  float64\n",
      " 19  sqft_living15  21613 non-null  int64  \n",
      " 20  sqft_lot15     21613 non-null  int64  \n",
      "dtypes: float64(4), int64(16), object(1)\n",
      "memory usage: 3.5+ MB\n"
     ]
    }
   ],
   "source": [
    "housing.info()"
   ]
  },
  {
   "cell_type": "code",
   "execution_count": 5,
   "metadata": {},
   "outputs": [
    {
     "data": {
      "text/plain": [
       "id               0\n",
       "date             0\n",
       "price            0\n",
       "bedrooms         0\n",
       "bathrooms        0\n",
       "sqft_living      0\n",
       "sqft_lot         0\n",
       "floors           0\n",
       "waterfront       0\n",
       "view             0\n",
       "condition        0\n",
       "grade            0\n",
       "sqft_above       0\n",
       "sqft_basement    0\n",
       "yr_built         0\n",
       "yr_renovated     0\n",
       "zipcode          0\n",
       "lat              0\n",
       "long             0\n",
       "sqft_living15    0\n",
       "sqft_lot15       0\n",
       "dtype: int64"
      ]
     },
     "execution_count": 5,
     "metadata": {},
     "output_type": "execute_result"
    }
   ],
   "source": [
    "housing.isna().sum()"
   ]
  },
  {
   "cell_type": "code",
   "execution_count": 6,
   "metadata": {},
   "outputs": [
    {
     "data": {
      "text/plain": [
       "(21613, 21)"
      ]
     },
     "execution_count": 6,
     "metadata": {},
     "output_type": "execute_result"
    }
   ],
   "source": [
    "housing.shape"
   ]
  },
  {
   "cell_type": "code",
   "execution_count": 7,
   "metadata": {},
   "outputs": [],
   "source": [
    "housing.drop(['id'],axis=1,inplace=True)\n",
    "housing.drop(['date'],axis=1,inplace=True)\n",
    "housing.drop(['lat'],axis=1,inplace=True)\n",
    "housing.drop(['long'],axis=1,inplace=True)"
   ]
  },
  {
   "cell_type": "code",
   "execution_count": 8,
   "metadata": {},
   "outputs": [
    {
     "data": {
      "text/html": [
       "<div>\n",
       "<style scoped>\n",
       "    .dataframe tbody tr th:only-of-type {\n",
       "        vertical-align: middle;\n",
       "    }\n",
       "\n",
       "    .dataframe tbody tr th {\n",
       "        vertical-align: top;\n",
       "    }\n",
       "\n",
       "    .dataframe thead th {\n",
       "        text-align: right;\n",
       "    }\n",
       "</style>\n",
       "<table border=\"1\" class=\"dataframe\">\n",
       "  <thead>\n",
       "    <tr style=\"text-align: right;\">\n",
       "      <th></th>\n",
       "      <th>price</th>\n",
       "      <th>bedrooms</th>\n",
       "      <th>bathrooms</th>\n",
       "      <th>sqft_living</th>\n",
       "      <th>sqft_lot</th>\n",
       "      <th>floors</th>\n",
       "      <th>waterfront</th>\n",
       "      <th>view</th>\n",
       "      <th>condition</th>\n",
       "      <th>grade</th>\n",
       "      <th>sqft_above</th>\n",
       "      <th>sqft_basement</th>\n",
       "      <th>yr_built</th>\n",
       "      <th>yr_renovated</th>\n",
       "      <th>zipcode</th>\n",
       "      <th>sqft_living15</th>\n",
       "      <th>sqft_lot15</th>\n",
       "    </tr>\n",
       "  </thead>\n",
       "  <tbody>\n",
       "    <tr>\n",
       "      <th>count</th>\n",
       "      <td>2.161300e+04</td>\n",
       "      <td>21613.000000</td>\n",
       "      <td>21613.000000</td>\n",
       "      <td>21613.000000</td>\n",
       "      <td>2.161300e+04</td>\n",
       "      <td>21613.000000</td>\n",
       "      <td>21613.000000</td>\n",
       "      <td>21613.000000</td>\n",
       "      <td>21613.000000</td>\n",
       "      <td>21613.000000</td>\n",
       "      <td>21613.000000</td>\n",
       "      <td>21613.000000</td>\n",
       "      <td>21613.000000</td>\n",
       "      <td>21613.000000</td>\n",
       "      <td>21613.000000</td>\n",
       "      <td>21613.000000</td>\n",
       "      <td>21613.000000</td>\n",
       "    </tr>\n",
       "    <tr>\n",
       "      <th>mean</th>\n",
       "      <td>5.400881e+05</td>\n",
       "      <td>3.370842</td>\n",
       "      <td>2.114757</td>\n",
       "      <td>2079.899736</td>\n",
       "      <td>1.510697e+04</td>\n",
       "      <td>1.494309</td>\n",
       "      <td>0.007542</td>\n",
       "      <td>0.234303</td>\n",
       "      <td>3.409430</td>\n",
       "      <td>7.656873</td>\n",
       "      <td>1788.390691</td>\n",
       "      <td>291.509045</td>\n",
       "      <td>1971.005136</td>\n",
       "      <td>84.402258</td>\n",
       "      <td>98077.939805</td>\n",
       "      <td>1986.552492</td>\n",
       "      <td>12768.455652</td>\n",
       "    </tr>\n",
       "    <tr>\n",
       "      <th>std</th>\n",
       "      <td>3.671272e+05</td>\n",
       "      <td>0.930062</td>\n",
       "      <td>0.770163</td>\n",
       "      <td>918.440897</td>\n",
       "      <td>4.142051e+04</td>\n",
       "      <td>0.539989</td>\n",
       "      <td>0.086517</td>\n",
       "      <td>0.766318</td>\n",
       "      <td>0.650743</td>\n",
       "      <td>1.175459</td>\n",
       "      <td>828.090978</td>\n",
       "      <td>442.575043</td>\n",
       "      <td>29.373411</td>\n",
       "      <td>401.679240</td>\n",
       "      <td>53.505026</td>\n",
       "      <td>685.391304</td>\n",
       "      <td>27304.179631</td>\n",
       "    </tr>\n",
       "    <tr>\n",
       "      <th>min</th>\n",
       "      <td>7.500000e+04</td>\n",
       "      <td>0.000000</td>\n",
       "      <td>0.000000</td>\n",
       "      <td>290.000000</td>\n",
       "      <td>5.200000e+02</td>\n",
       "      <td>1.000000</td>\n",
       "      <td>0.000000</td>\n",
       "      <td>0.000000</td>\n",
       "      <td>1.000000</td>\n",
       "      <td>1.000000</td>\n",
       "      <td>290.000000</td>\n",
       "      <td>0.000000</td>\n",
       "      <td>1900.000000</td>\n",
       "      <td>0.000000</td>\n",
       "      <td>98001.000000</td>\n",
       "      <td>399.000000</td>\n",
       "      <td>651.000000</td>\n",
       "    </tr>\n",
       "    <tr>\n",
       "      <th>25%</th>\n",
       "      <td>3.219500e+05</td>\n",
       "      <td>3.000000</td>\n",
       "      <td>1.750000</td>\n",
       "      <td>1427.000000</td>\n",
       "      <td>5.040000e+03</td>\n",
       "      <td>1.000000</td>\n",
       "      <td>0.000000</td>\n",
       "      <td>0.000000</td>\n",
       "      <td>3.000000</td>\n",
       "      <td>7.000000</td>\n",
       "      <td>1190.000000</td>\n",
       "      <td>0.000000</td>\n",
       "      <td>1951.000000</td>\n",
       "      <td>0.000000</td>\n",
       "      <td>98033.000000</td>\n",
       "      <td>1490.000000</td>\n",
       "      <td>5100.000000</td>\n",
       "    </tr>\n",
       "    <tr>\n",
       "      <th>50%</th>\n",
       "      <td>4.500000e+05</td>\n",
       "      <td>3.000000</td>\n",
       "      <td>2.250000</td>\n",
       "      <td>1910.000000</td>\n",
       "      <td>7.618000e+03</td>\n",
       "      <td>1.500000</td>\n",
       "      <td>0.000000</td>\n",
       "      <td>0.000000</td>\n",
       "      <td>3.000000</td>\n",
       "      <td>7.000000</td>\n",
       "      <td>1560.000000</td>\n",
       "      <td>0.000000</td>\n",
       "      <td>1975.000000</td>\n",
       "      <td>0.000000</td>\n",
       "      <td>98065.000000</td>\n",
       "      <td>1840.000000</td>\n",
       "      <td>7620.000000</td>\n",
       "    </tr>\n",
       "    <tr>\n",
       "      <th>75%</th>\n",
       "      <td>6.450000e+05</td>\n",
       "      <td>4.000000</td>\n",
       "      <td>2.500000</td>\n",
       "      <td>2550.000000</td>\n",
       "      <td>1.068800e+04</td>\n",
       "      <td>2.000000</td>\n",
       "      <td>0.000000</td>\n",
       "      <td>0.000000</td>\n",
       "      <td>4.000000</td>\n",
       "      <td>8.000000</td>\n",
       "      <td>2210.000000</td>\n",
       "      <td>560.000000</td>\n",
       "      <td>1997.000000</td>\n",
       "      <td>0.000000</td>\n",
       "      <td>98118.000000</td>\n",
       "      <td>2360.000000</td>\n",
       "      <td>10083.000000</td>\n",
       "    </tr>\n",
       "    <tr>\n",
       "      <th>max</th>\n",
       "      <td>7.700000e+06</td>\n",
       "      <td>33.000000</td>\n",
       "      <td>8.000000</td>\n",
       "      <td>13540.000000</td>\n",
       "      <td>1.651359e+06</td>\n",
       "      <td>3.500000</td>\n",
       "      <td>1.000000</td>\n",
       "      <td>4.000000</td>\n",
       "      <td>5.000000</td>\n",
       "      <td>13.000000</td>\n",
       "      <td>9410.000000</td>\n",
       "      <td>4820.000000</td>\n",
       "      <td>2015.000000</td>\n",
       "      <td>2015.000000</td>\n",
       "      <td>98199.000000</td>\n",
       "      <td>6210.000000</td>\n",
       "      <td>871200.000000</td>\n",
       "    </tr>\n",
       "  </tbody>\n",
       "</table>\n",
       "</div>"
      ],
      "text/plain": [
       "              price      bedrooms     bathrooms   sqft_living      sqft_lot  \\\n",
       "count  2.161300e+04  21613.000000  21613.000000  21613.000000  2.161300e+04   \n",
       "mean   5.400881e+05      3.370842      2.114757   2079.899736  1.510697e+04   \n",
       "std    3.671272e+05      0.930062      0.770163    918.440897  4.142051e+04   \n",
       "min    7.500000e+04      0.000000      0.000000    290.000000  5.200000e+02   \n",
       "25%    3.219500e+05      3.000000      1.750000   1427.000000  5.040000e+03   \n",
       "50%    4.500000e+05      3.000000      2.250000   1910.000000  7.618000e+03   \n",
       "75%    6.450000e+05      4.000000      2.500000   2550.000000  1.068800e+04   \n",
       "max    7.700000e+06     33.000000      8.000000  13540.000000  1.651359e+06   \n",
       "\n",
       "             floors    waterfront          view     condition         grade  \\\n",
       "count  21613.000000  21613.000000  21613.000000  21613.000000  21613.000000   \n",
       "mean       1.494309      0.007542      0.234303      3.409430      7.656873   \n",
       "std        0.539989      0.086517      0.766318      0.650743      1.175459   \n",
       "min        1.000000      0.000000      0.000000      1.000000      1.000000   \n",
       "25%        1.000000      0.000000      0.000000      3.000000      7.000000   \n",
       "50%        1.500000      0.000000      0.000000      3.000000      7.000000   \n",
       "75%        2.000000      0.000000      0.000000      4.000000      8.000000   \n",
       "max        3.500000      1.000000      4.000000      5.000000     13.000000   \n",
       "\n",
       "         sqft_above  sqft_basement      yr_built  yr_renovated       zipcode  \\\n",
       "count  21613.000000   21613.000000  21613.000000  21613.000000  21613.000000   \n",
       "mean    1788.390691     291.509045   1971.005136     84.402258  98077.939805   \n",
       "std      828.090978     442.575043     29.373411    401.679240     53.505026   \n",
       "min      290.000000       0.000000   1900.000000      0.000000  98001.000000   \n",
       "25%     1190.000000       0.000000   1951.000000      0.000000  98033.000000   \n",
       "50%     1560.000000       0.000000   1975.000000      0.000000  98065.000000   \n",
       "75%     2210.000000     560.000000   1997.000000      0.000000  98118.000000   \n",
       "max     9410.000000    4820.000000   2015.000000   2015.000000  98199.000000   \n",
       "\n",
       "       sqft_living15     sqft_lot15  \n",
       "count   21613.000000   21613.000000  \n",
       "mean     1986.552492   12768.455652  \n",
       "std       685.391304   27304.179631  \n",
       "min       399.000000     651.000000  \n",
       "25%      1490.000000    5100.000000  \n",
       "50%      1840.000000    7620.000000  \n",
       "75%      2360.000000   10083.000000  \n",
       "max      6210.000000  871200.000000  "
      ]
     },
     "execution_count": 8,
     "metadata": {},
     "output_type": "execute_result"
    }
   ],
   "source": [
    "housing.describe()"
   ]
  },
  {
   "cell_type": "code",
   "execution_count": 9,
   "metadata": {},
   "outputs": [
    {
     "data": {
      "text/plain": [
       "(21613, 17)"
      ]
     },
     "execution_count": 9,
     "metadata": {},
     "output_type": "execute_result"
    }
   ],
   "source": [
    "housing.shape"
   ]
  },
  {
   "cell_type": "code",
   "execution_count": 10,
   "metadata": {},
   "outputs": [
    {
     "data": {
      "text/plain": [
       "Index(['price', 'bedrooms', 'bathrooms', 'sqft_living', 'sqft_lot', 'floors',\n",
       "       'waterfront', 'view', 'condition', 'grade', 'sqft_above',\n",
       "       'sqft_basement', 'yr_built', 'yr_renovated', 'zipcode', 'sqft_living15',\n",
       "       'sqft_lot15'],\n",
       "      dtype='object')"
      ]
     },
     "execution_count": 10,
     "metadata": {},
     "output_type": "execute_result"
    }
   ],
   "source": [
    "housing.columns"
   ]
  },
  {
   "cell_type": "code",
   "execution_count": 11,
   "metadata": {},
   "outputs": [
    {
     "name": "stdout",
     "output_type": "stream",
     "text": [
      "[1.   2.25 3.   2.   4.5  1.5  2.5  1.75 2.75 3.25 4.   3.5  0.75 4.75\n",
      " 5.   4.25 3.75 0.   1.25 5.25 6.   0.5  5.5  6.75 5.75 8.   7.5  7.75\n",
      " 6.25 6.5 ]\n",
      "[ 3  2  4  5  1  6  7  0  8  9 11 10 33]\n",
      "[1.  2.  1.5 3.  2.5 3.5]\n",
      "[0 3 4 2 1]\n",
      "[3 5 4 1 2]\n",
      "[ 7  6  8 11  9  5 10 12  4  3 13  1]\n"
     ]
    }
   ],
   "source": [
    "print(housing['bathrooms'].unique())\n",
    "print(housing['bedrooms'].unique())\n",
    "print(housing['floors'].unique())\n",
    "print(housing['view'].unique())\n",
    "print(housing['condition'].unique())\n",
    "print(housing['grade'].unique())"
   ]
  },
  {
   "cell_type": "code",
   "execution_count": 12,
   "metadata": {},
   "outputs": [
    {
     "data": {
      "text/plain": [
       "[3, 4, 2, 5, 6, 1, 7, 0, 8, 9]"
      ]
     },
     "execution_count": 12,
     "metadata": {},
     "output_type": "execute_result"
    }
   ],
   "source": [
    "lst_1=list(housing.bedrooms.value_counts().sort_values(ascending=False).head(10).index)\n",
    "lst_1"
   ]
  },
  {
   "cell_type": "code",
   "execution_count": 13,
   "metadata": {},
   "outputs": [],
   "source": [
    "for categories in lst_1:\n",
    "    housing[categories]=np.where(housing['bedrooms']==categories,1,0)"
   ]
  },
  {
   "cell_type": "code",
   "execution_count": 14,
   "metadata": {},
   "outputs": [],
   "source": [
    "lst_1.append('bedrooms')"
   ]
  },
  {
   "cell_type": "code",
   "execution_count": 15,
   "metadata": {},
   "outputs": [
    {
     "data": {
      "text/plain": [
       "[2.5, 1.0, 1.75, 2.25, 2.0, 1.5, 2.75, 3.0, 3.5, 3.25]"
      ]
     },
     "execution_count": 15,
     "metadata": {},
     "output_type": "execute_result"
    }
   ],
   "source": [
    "lst_2=list(housing.bathrooms.value_counts().sort_values(ascending=False).head(10).index)\n",
    "lst_2"
   ]
  },
  {
   "cell_type": "code",
   "execution_count": 16,
   "metadata": {},
   "outputs": [],
   "source": [
    "for categories in lst_2:\n",
    "    housing[categories]=np.where(housing['bathrooms']==categories,1,0)"
   ]
  },
  {
   "cell_type": "code",
   "execution_count": 17,
   "metadata": {},
   "outputs": [],
   "source": [
    "lst_2.append('bathrooms')"
   ]
  },
  {
   "cell_type": "code",
   "execution_count": 18,
   "metadata": {},
   "outputs": [
    {
     "data": {
      "text/plain": [
       "[0, 2, 3, 1, 4]"
      ]
     },
     "execution_count": 18,
     "metadata": {},
     "output_type": "execute_result"
    }
   ],
   "source": [
    "lst_3=list(housing.view.value_counts().sort_values(ascending=False).head(10).index)\n",
    "lst_3"
   ]
  },
  {
   "cell_type": "code",
   "execution_count": 19,
   "metadata": {},
   "outputs": [],
   "source": [
    "for categories in lst_3:\n",
    "    housing[categories]=np.where(housing['view']==categories,1,0)"
   ]
  },
  {
   "cell_type": "code",
   "execution_count": 20,
   "metadata": {},
   "outputs": [],
   "source": [
    "lst_3.append('view')"
   ]
  },
  {
   "cell_type": "code",
   "execution_count": 21,
   "metadata": {},
   "outputs": [
    {
     "data": {
      "text/plain": [
       "[3, 4, 5, 2, 1]"
      ]
     },
     "execution_count": 21,
     "metadata": {},
     "output_type": "execute_result"
    }
   ],
   "source": [
    "lst_4=list(housing.condition.value_counts().sort_values(ascending=False).head(10).index)\n",
    "lst_4"
   ]
  },
  {
   "cell_type": "code",
   "execution_count": 22,
   "metadata": {},
   "outputs": [],
   "source": [
    "for categories in lst_4:\n",
    "    housing[categories]=np.where(housing['condition']==categories,1,0)"
   ]
  },
  {
   "cell_type": "code",
   "execution_count": 23,
   "metadata": {},
   "outputs": [],
   "source": [
    "lst_4.append('condition')"
   ]
  },
  {
   "cell_type": "code",
   "execution_count": 24,
   "metadata": {},
   "outputs": [
    {
     "data": {
      "text/plain": [
       "[7, 8, 9, 6, 10, 11, 5, 12, 4, 13]"
      ]
     },
     "execution_count": 24,
     "metadata": {},
     "output_type": "execute_result"
    }
   ],
   "source": [
    "lst_5=list(housing.grade.value_counts().sort_values(ascending=False).head(10).index)\n",
    "lst_5"
   ]
  },
  {
   "cell_type": "code",
   "execution_count": 25,
   "metadata": {},
   "outputs": [],
   "source": [
    "for categories in lst_5:\n",
    "    housing[categories]=np.where(housing['grade']==categories,1,0)"
   ]
  },
  {
   "cell_type": "code",
   "execution_count": 26,
   "metadata": {},
   "outputs": [],
   "source": [
    "lst_5.append('grade')"
   ]
  },
  {
   "cell_type": "code",
   "execution_count": 27,
   "metadata": {},
   "outputs": [
    {
     "data": {
      "text/plain": [
       "[1.0, 2.0, 1.5, 3.0, 2.5, 3.5]"
      ]
     },
     "execution_count": 27,
     "metadata": {},
     "output_type": "execute_result"
    }
   ],
   "source": [
    "lst_6=list(housing.floors.value_counts().sort_values(ascending=False).head(10).index)\n",
    "lst_6"
   ]
  },
  {
   "cell_type": "code",
   "execution_count": 28,
   "metadata": {},
   "outputs": [],
   "source": [
    "for categories in lst_6:\n",
    "    housing[categories]=np.where(housing['floors']==categories,1,0)"
   ]
  },
  {
   "cell_type": "code",
   "execution_count": 29,
   "metadata": {},
   "outputs": [],
   "source": [
    "lst_6.append('floors')"
   ]
  },
  {
   "cell_type": "code",
   "execution_count": 30,
   "metadata": {},
   "outputs": [
    {
     "data": {
      "text/plain": [
       "Index([        'price',      'bedrooms',     'bathrooms',   'sqft_living',\n",
       "            'sqft_lot',        'floors',    'waterfront',          'view',\n",
       "           'condition',         'grade',    'sqft_above', 'sqft_basement',\n",
       "            'yr_built',  'yr_renovated',       'zipcode', 'sqft_living15',\n",
       "          'sqft_lot15',               3,               4,               2,\n",
       "                     5,               6,               1,               7,\n",
       "                     0,               8,               9,             2.5,\n",
       "                  1.75,            2.25,             1.5,            2.75,\n",
       "                   3.5,            3.25,              10,              11,\n",
       "                    12,              13],\n",
       "      dtype='object')"
      ]
     },
     "execution_count": 30,
     "metadata": {},
     "output_type": "execute_result"
    }
   ],
   "source": [
    "housing.columns"
   ]
  },
  {
   "cell_type": "code",
   "execution_count": 31,
   "metadata": {},
   "outputs": [
    {
     "data": {
      "text/plain": [
       "array([1955, 1951, 1933, 1965, 1987, 2001, 1995, 1963, 1960, 2003, 1942,\n",
       "       1927, 1977, 1900, 1979, 1994, 1916, 1921, 1969, 1947, 1968, 1985,\n",
       "       1941, 1915, 1909, 1948, 2005, 1929, 1981, 1930, 1904, 1996, 2000,\n",
       "       1984, 2014, 1922, 1959, 1966, 1953, 1950, 2008, 1991, 1954, 1973,\n",
       "       1925, 1989, 1972, 1986, 1956, 2002, 1992, 1964, 1952, 1961, 2006,\n",
       "       1988, 1962, 1939, 1946, 1967, 1975, 1980, 1910, 1983, 1978, 1905,\n",
       "       1971, 2010, 1945, 1924, 1990, 1914, 1926, 2004, 1923, 2007, 1976,\n",
       "       1949, 1999, 1901, 1993, 1920, 1997, 1943, 1957, 1940, 1918, 1928,\n",
       "       1974, 1911, 1936, 1937, 1982, 1908, 1931, 1998, 1913, 2013, 1907,\n",
       "       1958, 2012, 1912, 2011, 1917, 1932, 1944, 1902, 2009, 1903, 1970,\n",
       "       2015, 1934, 1938, 1919, 1906, 1935], dtype=int64)"
      ]
     },
     "execution_count": 31,
     "metadata": {},
     "output_type": "execute_result"
    }
   ],
   "source": [
    "housing['yr_built'].unique()"
   ]
  },
  {
   "cell_type": "code",
   "execution_count": 32,
   "metadata": {},
   "outputs": [],
   "source": [
    "from sklearn import preprocessing\n",
    "label_encoder = preprocessing.LabelEncoder()"
   ]
  },
  {
   "cell_type": "code",
   "execution_count": 33,
   "metadata": {},
   "outputs": [],
   "source": [
    "housing['yr_built']= label_encoder.fit_transform(housing['yr_built'])"
   ]
  },
  {
   "cell_type": "code",
   "execution_count": 34,
   "metadata": {},
   "outputs": [
    {
     "data": {
      "text/plain": [
       "116"
      ]
     },
     "execution_count": 34,
     "metadata": {},
     "output_type": "execute_result"
    }
   ],
   "source": [
    "len(housing['yr_built'].unique())"
   ]
  },
  {
   "cell_type": "code",
   "execution_count": 35,
   "metadata": {},
   "outputs": [
    {
     "name": "stdout",
     "output_type": "stream",
     "text": [
      "[   0 1991 2002 2010 1999 1992 2013 1994 1978 2005 2008 2003 1984 1954\n",
      " 2014 2011 1974 1983 1945 1990 1988 1957 1977 1981 1995 2000 1998 1970\n",
      " 1989 2004 1986 2009 2007 1987 1973 2006 1985 2001 1980 1971 1979 1997\n",
      " 1950 1969 1948 2015 1968 2012 1963 1951 1993 1962 1996 1972 1953 1955\n",
      " 1982 1956 1940 1976 1946 1975 1958 1964 1959 1960 1967 1965 1934 1944]\n",
      "70\n",
      "[98178 98125 98028 98136 98074 98053 98003 98198 98146 98038 98007 98115\n",
      " 98107 98126 98019 98103 98002 98133 98040 98092 98030 98119 98112 98052\n",
      " 98027 98117 98058 98001 98056 98166 98023 98070 98148 98105 98042 98008\n",
      " 98059 98122 98144 98004 98005 98034 98075 98116 98010 98118 98199 98032\n",
      " 98045 98102 98077 98108 98168 98177 98065 98029 98006 98109 98022 98033\n",
      " 98155 98024 98011 98031 98106 98072 98188 98014 98055 98039]\n",
      "70\n"
     ]
    }
   ],
   "source": [
    "print(housing['yr_renovated'].unique())\n",
    "print(len(housing['yr_renovated'].unique()))\n",
    "print(housing['zipcode'].unique())\n",
    "print(len(housing['zipcode'].unique()))"
   ]
  },
  {
   "cell_type": "code",
   "execution_count": 36,
   "metadata": {},
   "outputs": [],
   "source": [
    "housing['yr_renovated']= label_encoder.fit_transform(housing['yr_renovated'])\n",
    "housing['zipcode']= label_encoder.fit_transform(housing['zipcode'])\n",
    "housing['waterfront']= label_encoder.fit_transform(housing['waterfront'])"
   ]
  },
  {
   "cell_type": "code",
   "execution_count": 37,
   "metadata": {},
   "outputs": [
    {
     "data": {
      "text/plain": [
       "Index([        'price',      'bedrooms',     'bathrooms',   'sqft_living',\n",
       "            'sqft_lot',        'floors',    'waterfront',          'view',\n",
       "           'condition',         'grade',    'sqft_above', 'sqft_basement',\n",
       "            'yr_built',  'yr_renovated',       'zipcode', 'sqft_living15',\n",
       "          'sqft_lot15',               3,               4,               2,\n",
       "                     5,               6,               1,               7,\n",
       "                     0,               8,               9,             2.5,\n",
       "                  1.75,            2.25,             1.5,            2.75,\n",
       "                   3.5,            3.25,              10,              11,\n",
       "                    12,              13],\n",
       "      dtype='object')"
      ]
     },
     "execution_count": 37,
     "metadata": {},
     "output_type": "execute_result"
    }
   ],
   "source": [
    "housing.columns"
   ]
  },
  {
   "cell_type": "code",
   "execution_count": 38,
   "metadata": {},
   "outputs": [],
   "source": [
    "housing.drop(['bedrooms'],axis=1,inplace=True)\n",
    "housing.drop(['bathrooms'],axis=1,inplace=True)\n",
    "housing.drop(['floors'],axis=1,inplace=True)\n",
    "housing.drop(['view'],axis=1,inplace=True)\n",
    "housing.drop(['yr_built'],axis=1,inplace=True)\n",
    "housing.drop(['yr_renovated'],axis=1,inplace=True)\n",
    "housing.drop(['zipcode'],axis=1,inplace=True)\n",
    "housing.drop(['condition'],axis=1,inplace=True)\n",
    "housing.drop(['grade'],axis=1,inplace=True)"
   ]
  },
  {
   "cell_type": "code",
   "execution_count": 39,
   "metadata": {},
   "outputs": [
    {
     "data": {
      "text/plain": [
       "Index([        'price',   'sqft_living',      'sqft_lot',    'waterfront',\n",
       "          'sqft_above', 'sqft_basement', 'sqft_living15',    'sqft_lot15',\n",
       "                     3,               4,               2,               5,\n",
       "                     6,               1,               7,               0,\n",
       "                     8,               9,             2.5,            1.75,\n",
       "                  2.25,             1.5,            2.75,             3.5,\n",
       "                  3.25,              10,              11,              12,\n",
       "                    13],\n",
       "      dtype='object')"
      ]
     },
     "execution_count": 39,
     "metadata": {},
     "output_type": "execute_result"
    }
   ],
   "source": [
    "housing.columns"
   ]
  },
  {
   "cell_type": "code",
   "execution_count": 40,
   "metadata": {},
   "outputs": [
    {
     "name": "stderr",
     "output_type": "stream",
     "text": [
      "c:\\Users\\dell pc\\anaconda3\\lib\\site-packages\\seaborn\\distributions.py:2551: FutureWarning: `distplot` is a deprecated function and will be removed in a future version. Please adapt your code to use either `displot` (a figure-level function with similar flexibility) or `histplot` (an axes-level function for histograms).\n",
      "  warnings.warn(msg, FutureWarning)\n",
      "c:\\Users\\dell pc\\anaconda3\\lib\\site-packages\\seaborn\\distributions.py:2551: FutureWarning: `distplot` is a deprecated function and will be removed in a future version. Please adapt your code to use either `displot` (a figure-level function with similar flexibility) or `histplot` (an axes-level function for histograms).\n",
      "  warnings.warn(msg, FutureWarning)\n",
      "c:\\Users\\dell pc\\anaconda3\\lib\\site-packages\\seaborn\\distributions.py:2551: FutureWarning: `distplot` is a deprecated function and will be removed in a future version. Please adapt your code to use either `displot` (a figure-level function with similar flexibility) or `histplot` (an axes-level function for histograms).\n",
      "  warnings.warn(msg, FutureWarning)\n",
      "c:\\Users\\dell pc\\anaconda3\\lib\\site-packages\\seaborn\\distributions.py:2551: FutureWarning: `distplot` is a deprecated function and will be removed in a future version. Please adapt your code to use either `displot` (a figure-level function with similar flexibility) or `histplot` (an axes-level function for histograms).\n",
      "  warnings.warn(msg, FutureWarning)\n",
      "c:\\Users\\dell pc\\anaconda3\\lib\\site-packages\\seaborn\\distributions.py:2551: FutureWarning: `distplot` is a deprecated function and will be removed in a future version. Please adapt your code to use either `displot` (a figure-level function with similar flexibility) or `histplot` (an axes-level function for histograms).\n",
      "  warnings.warn(msg, FutureWarning)\n",
      "c:\\Users\\dell pc\\anaconda3\\lib\\site-packages\\seaborn\\distributions.py:2551: FutureWarning: `distplot` is a deprecated function and will be removed in a future version. Please adapt your code to use either `displot` (a figure-level function with similar flexibility) or `histplot` (an axes-level function for histograms).\n",
      "  warnings.warn(msg, FutureWarning)\n",
      "c:\\Users\\dell pc\\anaconda3\\lib\\site-packages\\seaborn\\distributions.py:2551: FutureWarning: `distplot` is a deprecated function and will be removed in a future version. Please adapt your code to use either `displot` (a figure-level function with similar flexibility) or `histplot` (an axes-level function for histograms).\n",
      "  warnings.warn(msg, FutureWarning)\n",
      "c:\\Users\\dell pc\\anaconda3\\lib\\site-packages\\seaborn\\distributions.py:2551: FutureWarning: `distplot` is a deprecated function and will be removed in a future version. Please adapt your code to use either `displot` (a figure-level function with similar flexibility) or `histplot` (an axes-level function for histograms).\n",
      "  warnings.warn(msg, FutureWarning)\n",
      "c:\\Users\\dell pc\\anaconda3\\lib\\site-packages\\seaborn\\distributions.py:2551: FutureWarning: `distplot` is a deprecated function and will be removed in a future version. Please adapt your code to use either `displot` (a figure-level function with similar flexibility) or `histplot` (an axes-level function for histograms).\n",
      "  warnings.warn(msg, FutureWarning)\n",
      "c:\\Users\\dell pc\\anaconda3\\lib\\site-packages\\seaborn\\distributions.py:2551: FutureWarning: `distplot` is a deprecated function and will be removed in a future version. Please adapt your code to use either `displot` (a figure-level function with similar flexibility) or `histplot` (an axes-level function for histograms).\n",
      "  warnings.warn(msg, FutureWarning)\n",
      "c:\\Users\\dell pc\\anaconda3\\lib\\site-packages\\seaborn\\distributions.py:2551: FutureWarning: `distplot` is a deprecated function and will be removed in a future version. Please adapt your code to use either `displot` (a figure-level function with similar flexibility) or `histplot` (an axes-level function for histograms).\n",
      "  warnings.warn(msg, FutureWarning)\n",
      "c:\\Users\\dell pc\\anaconda3\\lib\\site-packages\\seaborn\\distributions.py:2551: FutureWarning: `distplot` is a deprecated function and will be removed in a future version. Please adapt your code to use either `displot` (a figure-level function with similar flexibility) or `histplot` (an axes-level function for histograms).\n",
      "  warnings.warn(msg, FutureWarning)\n",
      "c:\\Users\\dell pc\\anaconda3\\lib\\site-packages\\seaborn\\distributions.py:2551: FutureWarning: `distplot` is a deprecated function and will be removed in a future version. Please adapt your code to use either `displot` (a figure-level function with similar flexibility) or `histplot` (an axes-level function for histograms).\n",
      "  warnings.warn(msg, FutureWarning)\n",
      "c:\\Users\\dell pc\\anaconda3\\lib\\site-packages\\seaborn\\distributions.py:2551: FutureWarning: `distplot` is a deprecated function and will be removed in a future version. Please adapt your code to use either `displot` (a figure-level function with similar flexibility) or `histplot` (an axes-level function for histograms).\n",
      "  warnings.warn(msg, FutureWarning)\n",
      "c:\\Users\\dell pc\\anaconda3\\lib\\site-packages\\seaborn\\distributions.py:2551: FutureWarning: `distplot` is a deprecated function and will be removed in a future version. Please adapt your code to use either `displot` (a figure-level function with similar flexibility) or `histplot` (an axes-level function for histograms).\n",
      "  warnings.warn(msg, FutureWarning)\n",
      "c:\\Users\\dell pc\\anaconda3\\lib\\site-packages\\seaborn\\distributions.py:2551: FutureWarning: `distplot` is a deprecated function and will be removed in a future version. Please adapt your code to use either `displot` (a figure-level function with similar flexibility) or `histplot` (an axes-level function for histograms).\n",
      "  warnings.warn(msg, FutureWarning)\n"
     ]
    },
    {
     "data": {
      "image/png": "[encoded data removed]",
      "text/plain": [
       "<Figure size 1440x1800 with 16 Axes>"
      ]
     },
     "metadata": {},
     "output_type": "display_data"
    }
   ],
   "source": [
    "plt.figure(figsize=(20,25), facecolor='white')\n",
    "plotnumber = 1\n",
    "for column in housing:\n",
    "    if plotnumber<=16 :\n",
    "        ax = plt.subplot(4,4,plotnumber)\n",
    "        sns.distplot(housing[column])\n",
    "        plt.xlabel(column,fontsize=20)\n",
    "    #plt.ylabel('Salary',fontsize=20)\n",
    "    plotnumber+=1\n",
    "plt.tight_layout()"
   ]
  },
  {
   "cell_type": "code",
   "execution_count": 41,
   "metadata": {},
   "outputs": [
    {
     "data": {
      "image/png": "[encoded data removed]",
      "text/plain": [
       "<Figure size 432x288 with 1 Axes>"
      ]
     },
     "metadata": {
      "needs_background": "light"
     },
     "output_type": "display_data"
    },
    {
     "data": {
      "image/png": "[encoded data removed]",
      "text/plain": [
       "<Figure size 432x288 with 1 Axes>"
      ]
     },
     "metadata": {
      "needs_background": "light"
     },
     "output_type": "display_data"
    },
    {
     "data": {
      "image/png": "[encoded data removed]",
      "text/plain": [
       "<Figure size 432x288 with 1 Axes>"
      ]
     },
     "metadata": {
      "needs_background": "light"
     },
     "output_type": "display_data"
    },
    {
     "data": {
      "image/png": "[encoded data removed]",
      "text/plain": [
       "<Figure size 432x288 with 1 Axes>"
      ]
     },
     "metadata": {
      "needs_background": "light"
     },
     "output_type": "display_data"
    },
    {
     "data": {
      "image/png": "[encoded data removed]",
      "text/plain": [
       "<Figure size 432x288 with 1 Axes>"
      ]
     },
     "metadata": {
      "needs_background": "light"
     },
     "output_type": "display_data"
    },
    {
     "data": {
      "image/png": "[encoded data removed]",
      "text/plain": [
       "<Figure size 432x288 with 1 Axes>"
      ]
     },
     "metadata": {
      "needs_background": "light"
     },
     "output_type": "display_data"
    },
    {
     "data": {
      "image/png": "[encoded data removed]",
      "text/plain": [
       "<Figure size 432x288 with 1 Axes>"
      ]
     },
     "metadata": {
      "needs_background": "light"
     },
     "output_type": "display_data"
    },
    {
     "data": {
      "image/png": "[encoded data removed]",
      "text/plain": [
       "<Figure size 432x288 with 1 Axes>"
      ]
     },
     "metadata": {
      "needs_background": "light"
     },
     "output_type": "display_data"
    }
   ],
   "source": [
    "col=list(housing.columns)\n",
    "for col_name in col:\n",
    "    if(housing[col_name].dtypes=='int64' or housing[col_name].dtypes=='float64'):\n",
    "        plt.hist(housing[col_name])\n",
    "        plt.xlabel(col_name)\n",
    "        plt.ylabel('count')\n",
    "        plt.show()"
   ]
  },
  {
   "cell_type": "code",
   "execution_count": 42,
   "metadata": {},
   "outputs": [
    {
     "data": {
      "text/plain": [
       "29"
      ]
     },
     "execution_count": 42,
     "metadata": {},
     "output_type": "execute_result"
    }
   ],
   "source": [
    "len(col)"
   ]
  },
  {
   "cell_type": "code",
   "execution_count": 43,
   "metadata": {},
   "outputs": [
    {
     "data": {
      "text/plain": [
       "29"
      ]
     },
     "execution_count": 43,
     "metadata": {},
     "output_type": "execute_result"
    }
   ],
   "source": [
    "len(housing.columns)"
   ]
  },
  {
   "cell_type": "code",
   "execution_count": 44,
   "metadata": {},
   "outputs": [],
   "source": [
    "col_1=list(housing.columns)"
   ]
  },
  {
   "cell_type": "code",
   "execution_count": 45,
   "metadata": {},
   "outputs": [
    {
     "data": {
      "image/png": "[encoded data removed]",
      "text/plain": [
       "<Figure size 432x288 with 1 Axes>"
      ]
     },
     "metadata": {
      "needs_background": "light"
     },
     "output_type": "display_data"
    },
    {
     "data": {
      "image/png": "[encoded data removed]",
      "text/plain": [
       "<Figure size 432x288 with 1 Axes>"
      ]
     },
     "metadata": {
      "needs_background": "light"
     },
     "output_type": "display_data"
    },
    {
     "data": {
      "image/png": "[encoded data removed]",
      "text/plain": [
       "<Figure size 432x288 with 1 Axes>"
      ]
     },
     "metadata": {
      "needs_background": "light"
     },
     "output_type": "display_data"
    },
    {
     "data": {
      "image/png": "[encoded data removed]",
      "text/plain": [
       "<Figure size 432x288 with 1 Axes>"
      ]
     },
     "metadata": {
      "needs_background": "light"
     },
     "output_type": "display_data"
    },
    {
     "data": {
      "image/png": "[encoded data removed]",
      "text/plain": [
       "<Figure size 432x288 with 1 Axes>"
      ]
     },
     "metadata": {
      "needs_background": "light"
     },
     "output_type": "display_data"
    },
    {
     "data": {
      "image/png": "[encoded data removed]",
      "text/plain": [
       "<Figure size 432x288 with 1 Axes>"
      ]
     },
     "metadata": {
      "needs_background": "light"
     },
     "output_type": "display_data"
    },
    {
     "data": {
      "image/png": "[encoded data removed]",
      "text/plain": [
       "<Figure size 432x288 with 1 Axes>"
      ]
     },
     "metadata": {
      "needs_background": "light"
     },
     "output_type": "display_data"
    },
    {
     "data": {
      "image/png": "[encoded data removed]",
      "text/plain": [
       "<Figure size 432x288 with 1 Axes>"
      ]
     },
     "metadata": {
      "needs_background": "light"
     },
     "output_type": "display_data"
    }
   ],
   "source": [
    "for col_name in col_1:\n",
    "    if(housing[col_name].dtypes=='int64' or housing[col_name].dtypes=='float64'):\n",
    "        plt.boxplot(housing[col_name])\n",
    "        plt.xlabel(col_name)\n",
    "        plt.ylabel('count')\n",
    "        plt.show()"
   ]
  },
  {
   "cell_type": "code",
   "execution_count": 46,
   "metadata": {},
   "outputs": [
    {
     "data": {
      "text/plain": [
       "3720.0"
      ]
     },
     "execution_count": 46,
     "metadata": {},
     "output_type": "execute_result"
    }
   ],
   "source": [
    "Q1 = housing.sqft_lot15.quantile(0.25)\n",
    "Q3 = housing.sqft_lot15.quantile(0.65)\n",
    "IQR = Q3 - Q1\n",
    "IQR"
   ]
  },
  {
   "cell_type": "code",
   "execution_count": 47,
   "metadata": {},
   "outputs": [
    {
     "data": {
      "text/plain": [
       "-480.0"
      ]
     },
     "execution_count": 47,
     "metadata": {},
     "output_type": "execute_result"
    }
   ],
   "source": [
    "Q1 - 1.5*IQR"
   ]
  },
  {
   "cell_type": "code",
   "execution_count": 48,
   "metadata": {},
   "outputs": [
    {
     "data": {
      "text/plain": [
       "14400.0"
      ]
     },
     "execution_count": 48,
     "metadata": {},
     "output_type": "execute_result"
    }
   ],
   "source": [
    "Q3 + 1.5*IQR"
   ]
  },
  {
   "cell_type": "code",
   "execution_count": 49,
   "metadata": {},
   "outputs": [
    {
     "data": {
      "image/png": "[encoded data removed]",
      "text/plain": [
       "<Figure size 432x288 with 1 Axes>"
      ]
     },
     "metadata": {
      "needs_background": "light"
     },
     "output_type": "display_data"
    }
   ],
   "source": [
    "housing = housing[(housing.sqft_lot15 >= Q1 - 1.5*IQR) & (housing.sqft_lot15 <= Q3 + 1.5*IQR)]\n",
    "plt.boxplot(housing['sqft_lot15'])\n",
    "plt.show()"
   ]
  },
  {
   "cell_type": "code",
   "execution_count": 50,
   "metadata": {},
   "outputs": [
    {
     "data": {
      "text/plain": [
       "670.0"
      ]
     },
     "execution_count": 50,
     "metadata": {},
     "output_type": "execute_result"
    }
   ],
   "source": [
    "Q1 = housing.sqft_living15.quantile(0.25)\n",
    "Q3 = housing.sqft_living15.quantile(0.70)\n",
    "IQR = Q3 - Q1\n",
    "IQR"
   ]
  },
  {
   "cell_type": "code",
   "execution_count": 51,
   "metadata": {},
   "outputs": [
    {
     "data": {
      "image/png": "[encoded data removed]",
      "text/plain": [
       "<Figure size 432x288 with 1 Axes>"
      ]
     },
     "metadata": {
      "needs_background": "light"
     },
     "output_type": "display_data"
    }
   ],
   "source": [
    "housing = housing[(housing.sqft_living15 >= Q1 - 1.5*IQR) & (housing.sqft_living15 <= Q3 + 1.5*IQR)]\n",
    "plt.boxplot(housing['sqft_living15'])\n",
    "plt.show()"
   ]
  },
  {
   "cell_type": "code",
   "execution_count": 52,
   "metadata": {},
   "outputs": [
    {
     "data": {
      "text/plain": [
       "500.0"
      ]
     },
     "execution_count": 52,
     "metadata": {},
     "output_type": "execute_result"
    }
   ],
   "source": [
    "Q1 = housing.sqft_basement.quantile(0.10)\n",
    "Q3 = housing.sqft_basement.quantile(0.73)\n",
    "IQR = Q3 - Q1\n",
    "IQR"
   ]
  },
  {
   "cell_type": "code",
   "execution_count": 53,
   "metadata": {},
   "outputs": [
    {
     "data": {
      "image/png": "[encoded data removed]",
      "text/plain": [
       "<Figure size 432x288 with 1 Axes>"
      ]
     },
     "metadata": {
      "needs_background": "light"
     },
     "output_type": "display_data"
    }
   ],
   "source": [
    "housing = housing[(housing.sqft_basement >= Q1 - 1.5*IQR) & (housing.sqft_basement <= Q3 + 1.5*IQR)]\n",
    "plt.boxplot(housing['sqft_basement'])\n",
    "plt.show()"
   ]
  },
  {
   "cell_type": "code",
   "execution_count": 54,
   "metadata": {},
   "outputs": [
    {
     "data": {
      "text/plain": [
       "640.0"
      ]
     },
     "execution_count": 54,
     "metadata": {},
     "output_type": "execute_result"
    }
   ],
   "source": [
    "Q1 = housing.sqft_above.quantile(0.20)\n",
    "Q3 = housing.sqft_above.quantile(0.65)\n",
    "IQR = Q3 - Q1\n",
    "IQR"
   ]
  },
  {
   "cell_type": "code",
   "execution_count": 55,
   "metadata": {},
   "outputs": [
    {
     "data": {
      "image/png": "[encoded data removed]",
      "text/plain": [
       "<Figure size 432x288 with 1 Axes>"
      ]
     },
     "metadata": {
      "needs_background": "light"
     },
     "output_type": "display_data"
    }
   ],
   "source": [
    "housing = housing[(housing.sqft_above >= Q1 - 1.5*IQR) & (housing.sqft_above <= Q3 + 1.5*IQR)]\n",
    "plt.boxplot(housing['sqft_above'])\n",
    "plt.show()"
   ]
  },
  {
   "cell_type": "code",
   "execution_count": 56,
   "metadata": {},
   "outputs": [
    {
     "data": {
      "text/plain": [
       "4203.2"
      ]
     },
     "execution_count": 56,
     "metadata": {},
     "output_type": "execute_result"
    }
   ],
   "source": [
    "Q1 = housing.sqft_lot.quantile(0.20)\n",
    "Q3 = housing.sqft_lot.quantile(0.68)\n",
    "IQR = Q3 - Q1\n",
    "IQR"
   ]
  },
  {
   "cell_type": "code",
   "execution_count": 57,
   "metadata": {},
   "outputs": [
    {
     "data": {
      "image/png": "[encoded data removed]",
      "text/plain": [
       "<Figure size 432x288 with 1 Axes>"
      ]
     },
     "metadata": {
      "needs_background": "light"
     },
     "output_type": "display_data"
    }
   ],
   "source": [
    "housing = housing[(housing.sqft_lot >= Q1 - 1.5*IQR) & (housing.sqft_lot <= Q3 + 1.5*IQR)]\n",
    "plt.boxplot(housing['sqft_lot'])\n",
    "plt.show()"
   ]
  },
  {
   "cell_type": "code",
   "execution_count": 58,
   "metadata": {},
   "outputs": [
    {
     "data": {
      "text/plain": [
       "810.0"
      ]
     },
     "execution_count": 58,
     "metadata": {},
     "output_type": "execute_result"
    }
   ],
   "source": [
    "Q1 = housing.sqft_living.quantile(0.20)\n",
    "Q3 = housing.sqft_living.quantile(0.70)\n",
    "IQR = Q3 - Q1\n",
    "IQR"
   ]
  },
  {
   "cell_type": "code",
   "execution_count": 59,
   "metadata": {},
   "outputs": [
    {
     "data": {
      "image/png": "[encoded data removed]",
      "text/plain": [
       "<Figure size 432x288 with 1 Axes>"
      ]
     },
     "metadata": {
      "needs_background": "light"
     },
     "output_type": "display_data"
    }
   ],
   "source": [
    "housing = housing[(housing.sqft_living >= Q1 - 1.5*IQR) & (housing.sqft_living <= Q3 + 1.5*IQR)]\n",
    "plt.boxplot(housing['sqft_living'])\n",
    "plt.show()"
   ]
  },
  {
   "cell_type": "code",
   "execution_count": 60,
   "metadata": {},
   "outputs": [
    {
     "data": {
      "image/png": "[encoded data removed]",
      "text/plain": [
       "<Figure size 432x288 with 1 Axes>"
      ]
     },
     "metadata": {
      "needs_background": "light"
     },
     "output_type": "display_data"
    },
    {
     "data": {
      "image/png": "[encoded data removed]",
      "text/plain": [
       "<Figure size 432x288 with 1 Axes>"
      ]
     },
     "metadata": {
      "needs_background": "light"
     },
     "output_type": "display_data"
    },
    {
     "data": {
      "image/png": "[encoded data removed]",
      "text/plain": [
       "<Figure size 432x288 with 1 Axes>"
      ]
     },
     "metadata": {
      "needs_background": "light"
     },
     "output_type": "display_data"
    },
    {
     "data": {
      "image/png": "[encoded data removed]",
      "text/plain": [
       "<Figure size 432x288 with 1 Axes>"
      ]
     },
     "metadata": {
      "needs_background": "light"
     },
     "output_type": "display_data"
    },
    {
     "data": {
      "image/png": "[encoded data removed]",
      "text/plain": [
       "<Figure size 432x288 with 1 Axes>"
      ]
     },
     "metadata": {
      "needs_background": "light"
     },
     "output_type": "display_data"
    },
    {
     "data": {
      "image/png": "[encoded data removed]",
      "text/plain": [
       "<Figure size 432x288 with 1 Axes>"
      ]
     },
     "metadata": {
      "needs_background": "light"
     },
     "output_type": "display_data"
    },
    {
     "data": {
      "image/png": "[encoded data removed]",
      "text/plain": [
       "<Figure size 432x288 with 1 Axes>"
      ]
     },
     "metadata": {
      "needs_background": "light"
     },
     "output_type": "display_data"
    },
    {
     "data": {
      "image/png": "[encoded data removed]",
      "text/plain": [
       "<Figure size 432x288 with 1 Axes>"
      ]
     },
     "metadata": {
      "needs_background": "light"
     },
     "output_type": "display_data"
    }
   ],
   "source": [
    "for col_name in col_1:\n",
    "    if(housing[col_name].dtypes=='int64' or housing[col_name].dtypes=='float64'):\n",
    "        plt.boxplot(housing[col_name])\n",
    "        plt.xlabel(col_name)\n",
    "        plt.ylabel('count')\n",
    "        plt.show()"
   ]
  },
  {
   "cell_type": "code",
   "execution_count": 61,
   "metadata": {},
   "outputs": [
    {
     "data": {
      "text/html": [
       "<div>\n",
       "<style scoped>\n",
       "    .dataframe tbody tr th:only-of-type {\n",
       "        vertical-align: middle;\n",
       "    }\n",
       "\n",
       "    .dataframe tbody tr th {\n",
       "        vertical-align: top;\n",
       "    }\n",
       "\n",
       "    .dataframe thead th {\n",
       "        text-align: right;\n",
       "    }\n",
       "</style>\n",
       "<table border=\"1\" class=\"dataframe\">\n",
       "  <thead>\n",
       "    <tr style=\"text-align: right;\">\n",
       "      <th></th>\n",
       "      <th>price</th>\n",
       "      <th>sqft_living</th>\n",
       "      <th>sqft_lot</th>\n",
       "      <th>waterfront</th>\n",
       "      <th>sqft_above</th>\n",
       "      <th>sqft_basement</th>\n",
       "      <th>sqft_living15</th>\n",
       "      <th>sqft_lot15</th>\n",
       "      <th>3</th>\n",
       "      <th>4</th>\n",
       "      <th>...</th>\n",
       "      <th>1.75</th>\n",
       "      <th>2.25</th>\n",
       "      <th>1.5</th>\n",
       "      <th>2.75</th>\n",
       "      <th>3.5</th>\n",
       "      <th>3.25</th>\n",
       "      <th>10</th>\n",
       "      <th>11</th>\n",
       "      <th>12</th>\n",
       "      <th>13</th>\n",
       "    </tr>\n",
       "  </thead>\n",
       "  <tbody>\n",
       "    <tr>\n",
       "      <th>price</th>\n",
       "      <td>1.000000</td>\n",
       "      <td>0.503056</td>\n",
       "      <td>-0.124016</td>\n",
       "      <td>0.103277</td>\n",
       "      <td>0.359191</td>\n",
       "      <td>0.277583</td>\n",
       "      <td>0.430812</td>\n",
       "      <td>-0.133725</td>\n",
       "      <td>0.048767</td>\n",
       "      <td>-0.042484</td>\n",
       "      <td>...</td>\n",
       "      <td>0.002238</td>\n",
       "      <td>0.056542</td>\n",
       "      <td>0.140296</td>\n",
       "      <td>0.097643</td>\n",
       "      <td>0.006578</td>\n",
       "      <td>0.121735</td>\n",
       "      <td>0.214120</td>\n",
       "      <td>0.101451</td>\n",
       "      <td>NaN</td>\n",
       "      <td>NaN</td>\n",
       "    </tr>\n",
       "    <tr>\n",
       "      <th>sqft_living</th>\n",
       "      <td>0.503056</td>\n",
       "      <td>1.000000</td>\n",
       "      <td>0.147814</td>\n",
       "      <td>0.021657</td>\n",
       "      <td>0.767760</td>\n",
       "      <td>0.478126</td>\n",
       "      <td>0.652398</td>\n",
       "      <td>0.123530</td>\n",
       "      <td>-0.074228</td>\n",
       "      <td>-0.068691</td>\n",
       "      <td>...</td>\n",
       "      <td>-0.007274</td>\n",
       "      <td>0.118964</td>\n",
       "      <td>0.019671</td>\n",
       "      <td>0.192151</td>\n",
       "      <td>-0.005952</td>\n",
       "      <td>0.095691</td>\n",
       "      <td>0.142490</td>\n",
       "      <td>0.045447</td>\n",
       "      <td>NaN</td>\n",
       "      <td>NaN</td>\n",
       "    </tr>\n",
       "    <tr>\n",
       "      <th>sqft_lot</th>\n",
       "      <td>-0.124016</td>\n",
       "      <td>0.147814</td>\n",
       "      <td>1.000000</td>\n",
       "      <td>0.031222</td>\n",
       "      <td>0.111382</td>\n",
       "      <td>0.073557</td>\n",
       "      <td>0.206647</td>\n",
       "      <td>0.891432</td>\n",
       "      <td>-0.328359</td>\n",
       "      <td>-0.005002</td>\n",
       "      <td>...</td>\n",
       "      <td>0.133258</td>\n",
       "      <td>0.028317</td>\n",
       "      <td>-0.093356</td>\n",
       "      <td>0.021078</td>\n",
       "      <td>-0.035286</td>\n",
       "      <td>-0.104292</td>\n",
       "      <td>0.004188</td>\n",
       "      <td>-0.008977</td>\n",
       "      <td>NaN</td>\n",
       "      <td>NaN</td>\n",
       "    </tr>\n",
       "    <tr>\n",
       "      <th>waterfront</th>\n",
       "      <td>0.103277</td>\n",
       "      <td>0.021657</td>\n",
       "      <td>0.031222</td>\n",
       "      <td>1.000000</td>\n",
       "      <td>0.009063</td>\n",
       "      <td>0.020723</td>\n",
       "      <td>0.034919</td>\n",
       "      <td>0.036254</td>\n",
       "      <td>0.000476</td>\n",
       "      <td>-0.001394</td>\n",
       "      <td>...</td>\n",
       "      <td>0.019827</td>\n",
       "      <td>0.001507</td>\n",
       "      <td>0.006774</td>\n",
       "      <td>0.000059</td>\n",
       "      <td>-0.000828</td>\n",
       "      <td>0.035327</td>\n",
       "      <td>-0.003899</td>\n",
       "      <td>-0.000956</td>\n",
       "      <td>NaN</td>\n",
       "      <td>NaN</td>\n",
       "    </tr>\n",
       "    <tr>\n",
       "      <th>sqft_above</th>\n",
       "      <td>0.359191</td>\n",
       "      <td>0.767760</td>\n",
       "      <td>0.111382</td>\n",
       "      <td>0.009063</td>\n",
       "      <td>1.000000</td>\n",
       "      <td>-0.195669</td>\n",
       "      <td>0.609505</td>\n",
       "      <td>0.089477</td>\n",
       "      <td>-0.000697</td>\n",
       "      <td>-0.059825</td>\n",
       "      <td>...</td>\n",
       "      <td>-0.118552</td>\n",
       "      <td>0.082646</td>\n",
       "      <td>0.017969</td>\n",
       "      <td>0.093711</td>\n",
       "      <td>0.003375</td>\n",
       "      <td>0.061865</td>\n",
       "      <td>0.135944</td>\n",
       "      <td>0.030216</td>\n",
       "      <td>NaN</td>\n",
       "      <td>NaN</td>\n",
       "    </tr>\n",
       "    <tr>\n",
       "      <th>sqft_basement</th>\n",
       "      <td>0.277583</td>\n",
       "      <td>0.478126</td>\n",
       "      <td>0.073557</td>\n",
       "      <td>0.020723</td>\n",
       "      <td>-0.195669</td>\n",
       "      <td>1.000000</td>\n",
       "      <td>0.163038</td>\n",
       "      <td>0.066416</td>\n",
       "      <td>-0.112652</td>\n",
       "      <td>-0.023128</td>\n",
       "      <td>...</td>\n",
       "      <td>0.151373</td>\n",
       "      <td>0.068791</td>\n",
       "      <td>0.005476</td>\n",
       "      <td>0.165640</td>\n",
       "      <td>-0.013735</td>\n",
       "      <td>0.061658</td>\n",
       "      <td>0.031741</td>\n",
       "      <td>0.028139</td>\n",
       "      <td>NaN</td>\n",
       "      <td>NaN</td>\n",
       "    </tr>\n",
       "    <tr>\n",
       "      <th>sqft_living15</th>\n",
       "      <td>0.430812</td>\n",
       "      <td>0.652398</td>\n",
       "      <td>0.206647</td>\n",
       "      <td>0.034919</td>\n",
       "      <td>0.609505</td>\n",
       "      <td>0.163038</td>\n",
       "      <td>1.000000</td>\n",
       "      <td>0.223191</td>\n",
       "      <td>-0.111017</td>\n",
       "      <td>-0.029163</td>\n",
       "      <td>...</td>\n",
       "      <td>-0.019343</td>\n",
       "      <td>0.101455</td>\n",
       "      <td>-0.071202</td>\n",
       "      <td>0.113447</td>\n",
       "      <td>-0.014094</td>\n",
       "      <td>0.042756</td>\n",
       "      <td>0.138021</td>\n",
       "      <td>0.021042</td>\n",
       "      <td>NaN</td>\n",
       "      <td>NaN</td>\n",
       "    </tr>\n",
       "    <tr>\n",
       "      <th>sqft_lot15</th>\n",
       "      <td>-0.133725</td>\n",
       "      <td>0.123530</td>\n",
       "      <td>0.891432</td>\n",
       "      <td>0.036254</td>\n",
       "      <td>0.089477</td>\n",
       "      <td>0.066416</td>\n",
       "      <td>0.223191</td>\n",
       "      <td>1.000000</td>\n",
       "      <td>-0.320219</td>\n",
       "      <td>0.003446</td>\n",
       "      <td>...</td>\n",
       "      <td>0.131190</td>\n",
       "      <td>0.031693</td>\n",
       "      <td>-0.111871</td>\n",
       "      <td>0.021239</td>\n",
       "      <td>-0.037680</td>\n",
       "      <td>-0.101098</td>\n",
       "      <td>0.001107</td>\n",
       "      <td>-0.012424</td>\n",
       "      <td>NaN</td>\n",
       "      <td>NaN</td>\n",
       "    </tr>\n",
       "    <tr>\n",
       "      <th>3</th>\n",
       "      <td>0.048767</td>\n",
       "      <td>-0.074228</td>\n",
       "      <td>-0.328359</td>\n",
       "      <td>0.000476</td>\n",
       "      <td>-0.000697</td>\n",
       "      <td>-0.112652</td>\n",
       "      <td>-0.111017</td>\n",
       "      <td>-0.320219</td>\n",
       "      <td>1.000000</td>\n",
       "      <td>-0.006328</td>\n",
       "      <td>...</td>\n",
       "      <td>-0.063745</td>\n",
       "      <td>0.065979</td>\n",
       "      <td>-0.063342</td>\n",
       "      <td>-0.020269</td>\n",
       "      <td>-0.003758</td>\n",
       "      <td>0.102989</td>\n",
       "      <td>0.001482</td>\n",
       "      <td>0.026701</td>\n",
       "      <td>NaN</td>\n",
       "      <td>NaN</td>\n",
       "    </tr>\n",
       "    <tr>\n",
       "      <th>4</th>\n",
       "      <td>-0.042484</td>\n",
       "      <td>-0.068691</td>\n",
       "      <td>-0.005002</td>\n",
       "      <td>-0.001394</td>\n",
       "      <td>-0.059825</td>\n",
       "      <td>-0.023128</td>\n",
       "      <td>-0.029163</td>\n",
       "      <td>0.003446</td>\n",
       "      <td>-0.006328</td>\n",
       "      <td>1.000000</td>\n",
       "      <td>...</td>\n",
       "      <td>-0.014510</td>\n",
       "      <td>-0.011103</td>\n",
       "      <td>-0.011067</td>\n",
       "      <td>-0.006497</td>\n",
       "      <td>-0.000657</td>\n",
       "      <td>-0.003901</td>\n",
       "      <td>-0.003093</td>\n",
       "      <td>-0.000758</td>\n",
       "      <td>NaN</td>\n",
       "      <td>NaN</td>\n",
       "    </tr>\n",
       "    <tr>\n",
       "      <th>2</th>\n",
       "      <td>0.138447</td>\n",
       "      <td>0.352683</td>\n",
       "      <td>-0.233588</td>\n",
       "      <td>-0.001286</td>\n",
       "      <td>0.566176</td>\n",
       "      <td>-0.236293</td>\n",
       "      <td>0.314137</td>\n",
       "      <td>-0.229891</td>\n",
       "      <td>-0.127708</td>\n",
       "      <td>-0.022313</td>\n",
       "      <td>...</td>\n",
       "      <td>-0.221567</td>\n",
       "      <td>0.097037</td>\n",
       "      <td>-0.223341</td>\n",
       "      <td>0.017358</td>\n",
       "      <td>-0.013251</td>\n",
       "      <td>0.093553</td>\n",
       "      <td>0.095961</td>\n",
       "      <td>0.021662</td>\n",
       "      <td>NaN</td>\n",
       "      <td>NaN</td>\n",
       "    </tr>\n",
       "    <tr>\n",
       "      <th>5</th>\n",
       "      <td>-0.110320</td>\n",
       "      <td>-0.155743</td>\n",
       "      <td>-0.004855</td>\n",
       "      <td>0.009829</td>\n",
       "      <td>-0.128316</td>\n",
       "      <td>-0.062481</td>\n",
       "      <td>-0.106826</td>\n",
       "      <td>0.015056</td>\n",
       "      <td>-0.020760</td>\n",
       "      <td>-0.003627</td>\n",
       "      <td>...</td>\n",
       "      <td>-0.034447</td>\n",
       "      <td>-0.036424</td>\n",
       "      <td>-0.000102</td>\n",
       "      <td>-0.021314</td>\n",
       "      <td>-0.002154</td>\n",
       "      <td>-0.012798</td>\n",
       "      <td>-0.010145</td>\n",
       "      <td>-0.002488</td>\n",
       "      <td>NaN</td>\n",
       "      <td>NaN</td>\n",
       "    </tr>\n",
       "    <tr>\n",
       "      <th>6</th>\n",
       "      <td>-0.256812</td>\n",
       "      <td>-0.376698</td>\n",
       "      <td>0.023497</td>\n",
       "      <td>-0.000753</td>\n",
       "      <td>-0.329645</td>\n",
       "      <td>-0.124687</td>\n",
       "      <td>-0.316287</td>\n",
       "      <td>0.026766</td>\n",
       "      <td>-0.069235</td>\n",
       "      <td>-0.012097</td>\n",
       "      <td>...</td>\n",
       "      <td>-0.052274</td>\n",
       "      <td>-0.119456</td>\n",
       "      <td>0.053040</td>\n",
       "      <td>-0.063560</td>\n",
       "      <td>-0.007184</td>\n",
       "      <td>-0.042683</td>\n",
       "      <td>-0.033835</td>\n",
       "      <td>-0.008296</td>\n",
       "      <td>NaN</td>\n",
       "      <td>NaN</td>\n",
       "    </tr>\n",
       "    <tr>\n",
       "      <th>1</th>\n",
       "      <td>-0.241035</td>\n",
       "      <td>-0.317912</td>\n",
       "      <td>0.404796</td>\n",
       "      <td>-0.002649</td>\n",
       "      <td>-0.545053</td>\n",
       "      <td>0.260557</td>\n",
       "      <td>-0.210903</td>\n",
       "      <td>0.409555</td>\n",
       "      <td>-0.210383</td>\n",
       "      <td>0.030080</td>\n",
       "      <td>...</td>\n",
       "      <td>0.239048</td>\n",
       "      <td>-0.079611</td>\n",
       "      <td>-0.367926</td>\n",
       "      <td>-0.028642</td>\n",
       "      <td>-0.021830</td>\n",
       "      <td>-0.113901</td>\n",
       "      <td>-0.077321</td>\n",
       "      <td>-0.025209</td>\n",
       "      <td>NaN</td>\n",
       "      <td>NaN</td>\n",
       "    </tr>\n",
       "    <tr>\n",
       "      <th>7</th>\n",
       "      <td>-0.224996</td>\n",
       "      <td>-0.181406</td>\n",
       "      <td>0.091817</td>\n",
       "      <td>-0.011457</td>\n",
       "      <td>-0.247840</td>\n",
       "      <td>0.062079</td>\n",
       "      <td>-0.233005</td>\n",
       "      <td>0.074560</td>\n",
       "      <td>-0.122955</td>\n",
       "      <td>-0.033722</td>\n",
       "      <td>...</td>\n",
       "      <td>0.125045</td>\n",
       "      <td>-0.044483</td>\n",
       "      <td>0.055829</td>\n",
       "      <td>-0.031052</td>\n",
       "      <td>-0.020027</td>\n",
       "      <td>-0.090913</td>\n",
       "      <td>-0.094320</td>\n",
       "      <td>-0.023126</td>\n",
       "      <td>NaN</td>\n",
       "      <td>NaN</td>\n",
       "    </tr>\n",
       "    <tr>\n",
       "      <th>0</th>\n",
       "      <td>-0.280491</td>\n",
       "      <td>-0.159969</td>\n",
       "      <td>-0.009651</td>\n",
       "      <td>-0.163078</td>\n",
       "      <td>-0.053835</td>\n",
       "      <td>-0.171043</td>\n",
       "      <td>-0.208095</td>\n",
       "      <td>-0.016563</td>\n",
       "      <td>0.000507</td>\n",
       "      <td>0.000435</td>\n",
       "      <td>...</td>\n",
       "      <td>-0.026760</td>\n",
       "      <td>-0.001168</td>\n",
       "      <td>-0.023255</td>\n",
       "      <td>-0.035676</td>\n",
       "      <td>-0.008574</td>\n",
       "      <td>-0.055984</td>\n",
       "      <td>-0.087135</td>\n",
       "      <td>-0.053248</td>\n",
       "      <td>NaN</td>\n",
       "      <td>NaN</td>\n",
       "    </tr>\n",
       "    <tr>\n",
       "      <th>8</th>\n",
       "      <td>0.231234</td>\n",
       "      <td>0.320521</td>\n",
       "      <td>-0.105664</td>\n",
       "      <td>0.014065</td>\n",
       "      <td>0.338960</td>\n",
       "      <td>0.025938</td>\n",
       "      <td>0.318726</td>\n",
       "      <td>-0.102536</td>\n",
       "      <td>0.165695</td>\n",
       "      <td>-0.021350</td>\n",
       "      <td>...</td>\n",
       "      <td>-0.044703</td>\n",
       "      <td>0.136187</td>\n",
       "      <td>-0.071573</td>\n",
       "      <td>0.059819</td>\n",
       "      <td>0.030757</td>\n",
       "      <td>0.064197</td>\n",
       "      <td>-0.059715</td>\n",
       "      <td>-0.014641</td>\n",
       "      <td>NaN</td>\n",
       "      <td>NaN</td>\n",
       "    </tr>\n",
       "    <tr>\n",
       "      <th>9</th>\n",
       "      <td>0.336154</td>\n",
       "      <td>0.294183</td>\n",
       "      <td>-0.020892</td>\n",
       "      <td>-0.004364</td>\n",
       "      <td>0.324816</td>\n",
       "      <td>0.005015</td>\n",
       "      <td>0.300394</td>\n",
       "      <td>-0.003919</td>\n",
       "      <td>0.041824</td>\n",
       "      <td>-0.008562</td>\n",
       "      <td>...</td>\n",
       "      <td>-0.074922</td>\n",
       "      <td>0.008062</td>\n",
       "      <td>-0.040801</td>\n",
       "      <td>0.042614</td>\n",
       "      <td>-0.005085</td>\n",
       "      <td>0.097653</td>\n",
       "      <td>-0.023947</td>\n",
       "      <td>-0.005872</td>\n",
       "      <td>NaN</td>\n",
       "      <td>NaN</td>\n",
       "    </tr>\n",
       "    <tr>\n",
       "      <th>2.5</th>\n",
       "      <td>0.070829</td>\n",
       "      <td>0.042402</td>\n",
       "      <td>-0.064811</td>\n",
       "      <td>-0.002813</td>\n",
       "      <td>0.057993</td>\n",
       "      <td>-0.014596</td>\n",
       "      <td>0.023606</td>\n",
       "      <td>-0.064479</td>\n",
       "      <td>-0.012771</td>\n",
       "      <td>-0.002231</td>\n",
       "      <td>...</td>\n",
       "      <td>-0.016016</td>\n",
       "      <td>0.009966</td>\n",
       "      <td>-0.022334</td>\n",
       "      <td>0.012726</td>\n",
       "      <td>-0.001325</td>\n",
       "      <td>0.000530</td>\n",
       "      <td>0.004306</td>\n",
       "      <td>-0.001530</td>\n",
       "      <td>NaN</td>\n",
       "      <td>NaN</td>\n",
       "    </tr>\n",
       "    <tr>\n",
       "      <th>1.75</th>\n",
       "      <td>0.002238</td>\n",
       "      <td>-0.007274</td>\n",
       "      <td>0.133258</td>\n",
       "      <td>0.019827</td>\n",
       "      <td>-0.118552</td>\n",
       "      <td>0.151373</td>\n",
       "      <td>-0.019343</td>\n",
       "      <td>0.131190</td>\n",
       "      <td>-0.063745</td>\n",
       "      <td>-0.014510</td>\n",
       "      <td>...</td>\n",
       "      <td>1.000000</td>\n",
       "      <td>-0.145705</td>\n",
       "      <td>-0.011551</td>\n",
       "      <td>-0.085259</td>\n",
       "      <td>-0.008617</td>\n",
       "      <td>-0.051196</td>\n",
       "      <td>-0.030973</td>\n",
       "      <td>-0.009951</td>\n",
       "      <td>NaN</td>\n",
       "      <td>NaN</td>\n",
       "    </tr>\n",
       "    <tr>\n",
       "      <th>2.25</th>\n",
       "      <td>0.056542</td>\n",
       "      <td>0.118964</td>\n",
       "      <td>0.028317</td>\n",
       "      <td>0.001507</td>\n",
       "      <td>0.082646</td>\n",
       "      <td>0.068791</td>\n",
       "      <td>0.101455</td>\n",
       "      <td>0.031693</td>\n",
       "      <td>0.065979</td>\n",
       "      <td>-0.011103</td>\n",
       "      <td>...</td>\n",
       "      <td>-0.145705</td>\n",
       "      <td>1.000000</td>\n",
       "      <td>-0.059890</td>\n",
       "      <td>-0.065242</td>\n",
       "      <td>-0.006594</td>\n",
       "      <td>-0.039176</td>\n",
       "      <td>0.011161</td>\n",
       "      <td>0.001874</td>\n",
       "      <td>NaN</td>\n",
       "      <td>NaN</td>\n",
       "    </tr>\n",
       "    <tr>\n",
       "      <th>1.5</th>\n",
       "      <td>0.140296</td>\n",
       "      <td>0.019671</td>\n",
       "      <td>-0.093356</td>\n",
       "      <td>0.006774</td>\n",
       "      <td>0.017969</td>\n",
       "      <td>0.005476</td>\n",
       "      <td>-0.071202</td>\n",
       "      <td>-0.111871</td>\n",
       "      <td>-0.063342</td>\n",
       "      <td>-0.011067</td>\n",
       "      <td>...</td>\n",
       "      <td>-0.011551</td>\n",
       "      <td>-0.059890</td>\n",
       "      <td>1.000000</td>\n",
       "      <td>0.029441</td>\n",
       "      <td>-0.006573</td>\n",
       "      <td>-0.018441</td>\n",
       "      <td>-0.021549</td>\n",
       "      <td>-0.007590</td>\n",
       "      <td>NaN</td>\n",
       "      <td>NaN</td>\n",
       "    </tr>\n",
       "    <tr>\n",
       "      <th>2.75</th>\n",
       "      <td>0.097643</td>\n",
       "      <td>0.192151</td>\n",
       "      <td>0.021078</td>\n",
       "      <td>0.000059</td>\n",
       "      <td>0.093711</td>\n",
       "      <td>0.165640</td>\n",
       "      <td>0.113447</td>\n",
       "      <td>0.021239</td>\n",
       "      <td>-0.020269</td>\n",
       "      <td>-0.006497</td>\n",
       "      <td>...</td>\n",
       "      <td>-0.085259</td>\n",
       "      <td>-0.065242</td>\n",
       "      <td>0.029441</td>\n",
       "      <td>1.000000</td>\n",
       "      <td>0.013629</td>\n",
       "      <td>-0.022924</td>\n",
       "      <td>0.011778</td>\n",
       "      <td>-0.004456</td>\n",
       "      <td>NaN</td>\n",
       "      <td>NaN</td>\n",
       "    </tr>\n",
       "    <tr>\n",
       "      <th>3.5</th>\n",
       "      <td>0.006578</td>\n",
       "      <td>-0.005952</td>\n",
       "      <td>-0.035286</td>\n",
       "      <td>-0.000828</td>\n",
       "      <td>0.003375</td>\n",
       "      <td>-0.013735</td>\n",
       "      <td>-0.014094</td>\n",
       "      <td>-0.037680</td>\n",
       "      <td>-0.003758</td>\n",
       "      <td>-0.000657</td>\n",
       "      <td>...</td>\n",
       "      <td>-0.008617</td>\n",
       "      <td>-0.006594</td>\n",
       "      <td>-0.006573</td>\n",
       "      <td>0.013629</td>\n",
       "      <td>1.000000</td>\n",
       "      <td>-0.002317</td>\n",
       "      <td>-0.001837</td>\n",
       "      <td>-0.000450</td>\n",
       "      <td>NaN</td>\n",
       "      <td>NaN</td>\n",
       "    </tr>\n",
       "    <tr>\n",
       "      <th>3.25</th>\n",
       "      <td>0.121735</td>\n",
       "      <td>0.095691</td>\n",
       "      <td>-0.104292</td>\n",
       "      <td>0.035327</td>\n",
       "      <td>0.061865</td>\n",
       "      <td>0.061658</td>\n",
       "      <td>0.042756</td>\n",
       "      <td>-0.101098</td>\n",
       "      <td>0.102989</td>\n",
       "      <td>-0.003901</td>\n",
       "      <td>...</td>\n",
       "      <td>-0.051196</td>\n",
       "      <td>-0.039176</td>\n",
       "      <td>-0.018441</td>\n",
       "      <td>-0.022924</td>\n",
       "      <td>-0.002317</td>\n",
       "      <td>1.000000</td>\n",
       "      <td>0.086497</td>\n",
       "      <td>-0.002675</td>\n",
       "      <td>NaN</td>\n",
       "      <td>NaN</td>\n",
       "    </tr>\n",
       "    <tr>\n",
       "      <th>10</th>\n",
       "      <td>0.214120</td>\n",
       "      <td>0.142490</td>\n",
       "      <td>0.004188</td>\n",
       "      <td>-0.003899</td>\n",
       "      <td>0.135944</td>\n",
       "      <td>0.031741</td>\n",
       "      <td>0.138021</td>\n",
       "      <td>0.001107</td>\n",
       "      <td>0.001482</td>\n",
       "      <td>-0.003093</td>\n",
       "      <td>...</td>\n",
       "      <td>-0.030973</td>\n",
       "      <td>0.011161</td>\n",
       "      <td>-0.021549</td>\n",
       "      <td>0.011778</td>\n",
       "      <td>-0.001837</td>\n",
       "      <td>0.086497</td>\n",
       "      <td>1.000000</td>\n",
       "      <td>-0.002121</td>\n",
       "      <td>NaN</td>\n",
       "      <td>NaN</td>\n",
       "    </tr>\n",
       "    <tr>\n",
       "      <th>11</th>\n",
       "      <td>0.101451</td>\n",
       "      <td>0.045447</td>\n",
       "      <td>-0.008977</td>\n",
       "      <td>-0.000956</td>\n",
       "      <td>0.030216</td>\n",
       "      <td>0.028139</td>\n",
       "      <td>0.021042</td>\n",
       "      <td>-0.012424</td>\n",
       "      <td>0.026701</td>\n",
       "      <td>-0.000758</td>\n",
       "      <td>...</td>\n",
       "      <td>-0.009951</td>\n",
       "      <td>0.001874</td>\n",
       "      <td>-0.007590</td>\n",
       "      <td>-0.004456</td>\n",
       "      <td>-0.000450</td>\n",
       "      <td>-0.002675</td>\n",
       "      <td>-0.002121</td>\n",
       "      <td>1.000000</td>\n",
       "      <td>NaN</td>\n",
       "      <td>NaN</td>\n",
       "    </tr>\n",
       "    <tr>\n",
       "      <th>12</th>\n",
       "      <td>NaN</td>\n",
       "      <td>NaN</td>\n",
       "      <td>NaN</td>\n",
       "      <td>NaN</td>\n",
       "      <td>NaN</td>\n",
       "      <td>NaN</td>\n",
       "      <td>NaN</td>\n",
       "      <td>NaN</td>\n",
       "      <td>NaN</td>\n",
       "      <td>NaN</td>\n",
       "      <td>...</td>\n",
       "      <td>NaN</td>\n",
       "      <td>NaN</td>\n",
       "      <td>NaN</td>\n",
       "      <td>NaN</td>\n",
       "      <td>NaN</td>\n",
       "      <td>NaN</td>\n",
       "      <td>NaN</td>\n",
       "      <td>NaN</td>\n",
       "      <td>NaN</td>\n",
       "      <td>NaN</td>\n",
       "    </tr>\n",
       "    <tr>\n",
       "      <th>13</th>\n",
       "      <td>NaN</td>\n",
       "      <td>NaN</td>\n",
       "      <td>NaN</td>\n",
       "      <td>NaN</td>\n",
       "      <td>NaN</td>\n",
       "      <td>NaN</td>\n",
       "      <td>NaN</td>\n",
       "      <td>NaN</td>\n",
       "      <td>NaN</td>\n",
       "      <td>NaN</td>\n",
       "      <td>...</td>\n",
       "      <td>NaN</td>\n",
       "      <td>NaN</td>\n",
       "      <td>NaN</td>\n",
       "      <td>NaN</td>\n",
       "      <td>NaN</td>\n",
       "      <td>NaN</td>\n",
       "      <td>NaN</td>\n",
       "      <td>NaN</td>\n",
       "      <td>NaN</td>\n",
       "      <td>NaN</td>\n",
       "    </tr>\n",
       "  </tbody>\n",
       "</table>\n",
       "<p>29 rows × 29 columns</p>\n",
       "</div>"
      ],
      "text/plain": [
       "                  price  sqft_living  sqft_lot  waterfront  sqft_above  \\\n",
       "price          1.000000     0.503056 -0.124016    0.103277    0.359191   \n",
       "sqft_living    0.503056     1.000000  0.147814    0.021657    0.767760   \n",
       "sqft_lot      -0.124016     0.147814  1.000000    0.031222    0.111382   \n",
       "waterfront     0.103277     0.021657  0.031222    1.000000    0.009063   \n",
       "sqft_above     0.359191     0.767760  0.111382    0.009063    1.000000   \n",
       "sqft_basement  0.277583     0.478126  0.073557    0.020723   -0.195669   \n",
       "sqft_living15  0.430812     0.652398  0.206647    0.034919    0.609505   \n",
       "sqft_lot15    -0.133725     0.123530  0.891432    0.036254    0.089477   \n",
       "3              0.048767    -0.074228 -0.328359    0.000476   -0.000697   \n",
       "4             -0.042484    -0.068691 -0.005002   -0.001394   -0.059825   \n",
       "2              0.138447     0.352683 -0.233588   -0.001286    0.566176   \n",
       "5             -0.110320    -0.155743 -0.004855    0.009829   -0.128316   \n",
       "6             -0.256812    -0.376698  0.023497   -0.000753   -0.329645   \n",
       "1             -0.241035    -0.317912  0.404796   -0.002649   -0.545053   \n",
       "7             -0.224996    -0.181406  0.091817   -0.011457   -0.247840   \n",
       "0             -0.280491    -0.159969 -0.009651   -0.163078   -0.053835   \n",
       "8              0.231234     0.320521 -0.105664    0.014065    0.338960   \n",
       "9              0.336154     0.294183 -0.020892   -0.004364    0.324816   \n",
       "2.5            0.070829     0.042402 -0.064811   -0.002813    0.057993   \n",
       "1.75           0.002238    -0.007274  0.133258    0.019827   -0.118552   \n",
       "2.25           0.056542     0.118964  0.028317    0.001507    0.082646   \n",
       "1.5            0.140296     0.019671 -0.093356    0.006774    0.017969   \n",
       "2.75           0.097643     0.192151  0.021078    0.000059    0.093711   \n",
       "3.5            0.006578    -0.005952 -0.035286   -0.000828    0.003375   \n",
       "3.25           0.121735     0.095691 -0.104292    0.035327    0.061865   \n",
       "10             0.214120     0.142490  0.004188   -0.003899    0.135944   \n",
       "11             0.101451     0.045447 -0.008977   -0.000956    0.030216   \n",
       "12                  NaN          NaN       NaN         NaN         NaN   \n",
       "13                  NaN          NaN       NaN         NaN         NaN   \n",
       "\n",
       "               sqft_basement  sqft_living15  sqft_lot15         3         4  \\\n",
       "price               0.277583       0.430812   -0.133725  0.048767 -0.042484   \n",
       "sqft_living         0.478126       0.652398    0.123530 -0.074228 -0.068691   \n",
       "sqft_lot            0.073557       0.206647    0.891432 -0.328359 -0.005002   \n",
       "waterfront          0.020723       0.034919    0.036254  0.000476 -0.001394   \n",
       "sqft_above         -0.195669       0.609505    0.089477 -0.000697 -0.059825   \n",
       "sqft_basement       1.000000       0.163038    0.066416 -0.112652 -0.023128   \n",
       "sqft_living15       0.163038       1.000000    0.223191 -0.111017 -0.029163   \n",
       "sqft_lot15          0.066416       0.223191    1.000000 -0.320219  0.003446   \n",
       "3                  -0.112652      -0.111017   -0.320219  1.000000 -0.006328   \n",
       "4                  -0.023128      -0.029163    0.003446 -0.006328  1.000000   \n",
       "2                  -0.236293       0.314137   -0.229891 -0.127708 -0.022313   \n",
       "5                  -0.062481      -0.106826    0.015056 -0.020760 -0.003627   \n",
       "6                  -0.124687      -0.316287    0.026766 -0.069235 -0.012097   \n",
       "1                   0.260557      -0.210903    0.409555 -0.210383  0.030080   \n",
       "7                   0.062079      -0.233005    0.074560 -0.122955 -0.033722   \n",
       "0                  -0.171043      -0.208095   -0.016563  0.000507  0.000435   \n",
       "8                   0.025938       0.318726   -0.102536  0.165695 -0.021350   \n",
       "9                   0.005015       0.300394   -0.003919  0.041824 -0.008562   \n",
       "2.5                -0.014596       0.023606   -0.064479 -0.012771 -0.002231   \n",
       "1.75                0.151373      -0.019343    0.131190 -0.063745 -0.014510   \n",
       "2.25                0.068791       0.101455    0.031693  0.065979 -0.011103   \n",
       "1.5                 0.005476      -0.071202   -0.111871 -0.063342 -0.011067   \n",
       "2.75                0.165640       0.113447    0.021239 -0.020269 -0.006497   \n",
       "3.5                -0.013735      -0.014094   -0.037680 -0.003758 -0.000657   \n",
       "3.25                0.061658       0.042756   -0.101098  0.102989 -0.003901   \n",
       "10                  0.031741       0.138021    0.001107  0.001482 -0.003093   \n",
       "11                  0.028139       0.021042   -0.012424  0.026701 -0.000758   \n",
       "12                       NaN            NaN         NaN       NaN       NaN   \n",
       "13                       NaN            NaN         NaN       NaN       NaN   \n",
       "\n",
       "               ...      1.75      2.25       1.5      2.75       3.5  \\\n",
       "price          ...  0.002238  0.056542  0.140296  0.097643  0.006578   \n",
       "sqft_living    ... -0.007274  0.118964  0.019671  0.192151 -0.005952   \n",
       "sqft_lot       ...  0.133258  0.028317 -0.093356  0.021078 -0.035286   \n",
       "waterfront     ...  0.019827  0.001507  0.006774  0.000059 -0.000828   \n",
       "sqft_above     ... -0.118552  0.082646  0.017969  0.093711  0.003375   \n",
       "sqft_basement  ...  0.151373  0.068791  0.005476  0.165640 -0.013735   \n",
       "sqft_living15  ... -0.019343  0.101455 -0.071202  0.113447 -0.014094   \n",
       "sqft_lot15     ...  0.131190  0.031693 -0.111871  0.021239 -0.037680   \n",
       "3              ... -0.063745  0.065979 -0.063342 -0.020269 -0.003758   \n",
       "4              ... -0.014510 -0.011103 -0.011067 -0.006497 -0.000657   \n",
       "2              ... -0.221567  0.097037 -0.223341  0.017358 -0.013251   \n",
       "5              ... -0.034447 -0.036424 -0.000102 -0.021314 -0.002154   \n",
       "6              ... -0.052274 -0.119456  0.053040 -0.063560 -0.007184   \n",
       "1              ...  0.239048 -0.079611 -0.367926 -0.028642 -0.021830   \n",
       "7              ...  0.125045 -0.044483  0.055829 -0.031052 -0.020027   \n",
       "0              ... -0.026760 -0.001168 -0.023255 -0.035676 -0.008574   \n",
       "8              ... -0.044703  0.136187 -0.071573  0.059819  0.030757   \n",
       "9              ... -0.074922  0.008062 -0.040801  0.042614 -0.005085   \n",
       "2.5            ... -0.016016  0.009966 -0.022334  0.012726 -0.001325   \n",
       "1.75           ...  1.000000 -0.145705 -0.011551 -0.085259 -0.008617   \n",
       "2.25           ... -0.145705  1.000000 -0.059890 -0.065242 -0.006594   \n",
       "1.5            ... -0.011551 -0.059890  1.000000  0.029441 -0.006573   \n",
       "2.75           ... -0.085259 -0.065242  0.029441  1.000000  0.013629   \n",
       "3.5            ... -0.008617 -0.006594 -0.006573  0.013629  1.000000   \n",
       "3.25           ... -0.051196 -0.039176 -0.018441 -0.022924 -0.002317   \n",
       "10             ... -0.030973  0.011161 -0.021549  0.011778 -0.001837   \n",
       "11             ... -0.009951  0.001874 -0.007590 -0.004456 -0.000450   \n",
       "12             ...       NaN       NaN       NaN       NaN       NaN   \n",
       "13             ...       NaN       NaN       NaN       NaN       NaN   \n",
       "\n",
       "                   3.25        10        11  12  13  \n",
       "price          0.121735  0.214120  0.101451 NaN NaN  \n",
       "sqft_living    0.095691  0.142490  0.045447 NaN NaN  \n",
       "sqft_lot      -0.104292  0.004188 -0.008977 NaN NaN  \n",
       "waterfront     0.035327 -0.003899 -0.000956 NaN NaN  \n",
       "sqft_above     0.061865  0.135944  0.030216 NaN NaN  \n",
       "sqft_basement  0.061658  0.031741  0.028139 NaN NaN  \n",
       "sqft_living15  0.042756  0.138021  0.021042 NaN NaN  \n",
       "sqft_lot15    -0.101098  0.001107 -0.012424 NaN NaN  \n",
       "3              0.102989  0.001482  0.026701 NaN NaN  \n",
       "4             -0.003901 -0.003093 -0.000758 NaN NaN  \n",
       "2              0.093553  0.095961  0.021662 NaN NaN  \n",
       "5             -0.012798 -0.010145 -0.002488 NaN NaN  \n",
       "6             -0.042683 -0.033835 -0.008296 NaN NaN  \n",
       "1             -0.113901 -0.077321 -0.025209 NaN NaN  \n",
       "7             -0.090913 -0.094320 -0.023126 NaN NaN  \n",
       "0             -0.055984 -0.087135 -0.053248 NaN NaN  \n",
       "8              0.064197 -0.059715 -0.014641 NaN NaN  \n",
       "9              0.097653 -0.023947 -0.005872 NaN NaN  \n",
       "2.5            0.000530  0.004306 -0.001530 NaN NaN  \n",
       "1.75          -0.051196 -0.030973 -0.009951 NaN NaN  \n",
       "2.25          -0.039176  0.011161  0.001874 NaN NaN  \n",
       "1.5           -0.018441 -0.021549 -0.007590 NaN NaN  \n",
       "2.75          -0.022924  0.011778 -0.004456 NaN NaN  \n",
       "3.5           -0.002317 -0.001837 -0.000450 NaN NaN  \n",
       "3.25           1.000000  0.086497 -0.002675 NaN NaN  \n",
       "10             0.086497  1.000000 -0.002121 NaN NaN  \n",
       "11            -0.002675 -0.002121  1.000000 NaN NaN  \n",
       "12                  NaN       NaN       NaN NaN NaN  \n",
       "13                  NaN       NaN       NaN NaN NaN  \n",
       "\n",
       "[29 rows x 29 columns]"
      ]
     },
     "execution_count": 61,
     "metadata": {},
     "output_type": "execute_result"
    }
   ],
   "source": [
    "housing.corr()"
   ]
  },
  {
   "cell_type": "code",
   "execution_count": 62,
   "metadata": {},
   "outputs": [],
   "source": [
    "from sklearn.linear_model import LinearRegression"
   ]
  },
  {
   "cell_type": "code",
   "execution_count": 63,
   "metadata": {},
   "outputs": [],
   "source": [
    "from sklearn.model_selection import train_test_split"
   ]
  },
  {
   "cell_type": "code",
   "execution_count": 67,
   "metadata": {},
   "outputs": [],
   "source": [
    "from statsmodels.stats.outliers_influence import variance_inflation_factor \n",
    "col_list = []\n",
    "for col in housing.columns:\n",
    "    if ((housing[col].dtype != 'object') & (col != 'price') ):#only num cols except for the charges column\n",
    "        col_list.append(col)"
   ]
  },
  {
   "cell_type": "code",
   "execution_count": 68,
   "metadata": {},
   "outputs": [
    {
     "data": {
      "text/plain": [
       "['sqft_living',\n",
       " 'sqft_lot',\n",
       " 'waterfront',\n",
       " 'sqft_above',\n",
       " 'sqft_basement',\n",
       " 'sqft_living15',\n",
       " 'sqft_lot15',\n",
       " 3,\n",
       " 4,\n",
       " 2,\n",
       " 5,\n",
       " 6,\n",
       " 1,\n",
       " 7,\n",
       " 0,\n",
       " 8,\n",
       " 9,\n",
       " 2.5,\n",
       " 1.75,\n",
       " 2.25,\n",
       " 1.5,\n",
       " 2.75,\n",
       " 3.5,\n",
       " 3.25,\n",
       " 10,\n",
       " 11,\n",
       " 12,\n",
       " 13]"
      ]
     },
     "execution_count": 68,
     "metadata": {},
     "output_type": "execute_result"
    }
   ],
   "source": [
    "col_list"
   ]
  },
  {
   "cell_type": "code",
   "execution_count": 69,
   "metadata": {},
   "outputs": [
    {
     "data": {
      "text/html": [
       "<div>\n",
       "<style scoped>\n",
       "    .dataframe tbody tr th:only-of-type {\n",
       "        vertical-align: middle;\n",
       "    }\n",
       "\n",
       "    .dataframe tbody tr th {\n",
       "        vertical-align: top;\n",
       "    }\n",
       "\n",
       "    .dataframe thead th {\n",
       "        text-align: right;\n",
       "    }\n",
       "</style>\n",
       "<table border=\"1\" class=\"dataframe\">\n",
       "  <thead>\n",
       "    <tr style=\"text-align: right;\">\n",
       "      <th></th>\n",
       "      <th>sqft_living</th>\n",
       "      <th>sqft_lot</th>\n",
       "      <th>waterfront</th>\n",
       "      <th>sqft_above</th>\n",
       "      <th>sqft_basement</th>\n",
       "      <th>sqft_living15</th>\n",
       "      <th>sqft_lot15</th>\n",
       "      <th>3</th>\n",
       "      <th>4</th>\n",
       "      <th>2</th>\n",
       "      <th>...</th>\n",
       "      <th>1.75</th>\n",
       "      <th>2.25</th>\n",
       "      <th>1.5</th>\n",
       "      <th>2.75</th>\n",
       "      <th>3.5</th>\n",
       "      <th>3.25</th>\n",
       "      <th>10</th>\n",
       "      <th>11</th>\n",
       "      <th>12</th>\n",
       "      <th>13</th>\n",
       "    </tr>\n",
       "  </thead>\n",
       "  <tbody>\n",
       "    <tr>\n",
       "      <th>0</th>\n",
       "      <td>1180</td>\n",
       "      <td>5650</td>\n",
       "      <td>0</td>\n",
       "      <td>1180</td>\n",
       "      <td>0</td>\n",
       "      <td>1340</td>\n",
       "      <td>5650</td>\n",
       "      <td>0</td>\n",
       "      <td>0</td>\n",
       "      <td>0</td>\n",
       "      <td>...</td>\n",
       "      <td>0</td>\n",
       "      <td>0</td>\n",
       "      <td>0</td>\n",
       "      <td>0</td>\n",
       "      <td>0</td>\n",
       "      <td>0</td>\n",
       "      <td>0</td>\n",
       "      <td>0</td>\n",
       "      <td>0</td>\n",
       "      <td>0</td>\n",
       "    </tr>\n",
       "    <tr>\n",
       "      <th>1</th>\n",
       "      <td>2570</td>\n",
       "      <td>7242</td>\n",
       "      <td>0</td>\n",
       "      <td>2170</td>\n",
       "      <td>400</td>\n",
       "      <td>1690</td>\n",
       "      <td>7639</td>\n",
       "      <td>0</td>\n",
       "      <td>0</td>\n",
       "      <td>1</td>\n",
       "      <td>...</td>\n",
       "      <td>0</td>\n",
       "      <td>1</td>\n",
       "      <td>0</td>\n",
       "      <td>0</td>\n",
       "      <td>0</td>\n",
       "      <td>0</td>\n",
       "      <td>0</td>\n",
       "      <td>0</td>\n",
       "      <td>0</td>\n",
       "      <td>0</td>\n",
       "    </tr>\n",
       "    <tr>\n",
       "      <th>2</th>\n",
       "      <td>770</td>\n",
       "      <td>10000</td>\n",
       "      <td>0</td>\n",
       "      <td>770</td>\n",
       "      <td>0</td>\n",
       "      <td>2720</td>\n",
       "      <td>8062</td>\n",
       "      <td>0</td>\n",
       "      <td>0</td>\n",
       "      <td>0</td>\n",
       "      <td>...</td>\n",
       "      <td>0</td>\n",
       "      <td>0</td>\n",
       "      <td>0</td>\n",
       "      <td>0</td>\n",
       "      <td>0</td>\n",
       "      <td>0</td>\n",
       "      <td>0</td>\n",
       "      <td>0</td>\n",
       "      <td>0</td>\n",
       "      <td>0</td>\n",
       "    </tr>\n",
       "    <tr>\n",
       "      <th>3</th>\n",
       "      <td>1960</td>\n",
       "      <td>5000</td>\n",
       "      <td>0</td>\n",
       "      <td>1050</td>\n",
       "      <td>910</td>\n",
       "      <td>1360</td>\n",
       "      <td>5000</td>\n",
       "      <td>0</td>\n",
       "      <td>0</td>\n",
       "      <td>0</td>\n",
       "      <td>...</td>\n",
       "      <td>0</td>\n",
       "      <td>0</td>\n",
       "      <td>0</td>\n",
       "      <td>0</td>\n",
       "      <td>0</td>\n",
       "      <td>0</td>\n",
       "      <td>0</td>\n",
       "      <td>0</td>\n",
       "      <td>0</td>\n",
       "      <td>0</td>\n",
       "    </tr>\n",
       "    <tr>\n",
       "      <th>4</th>\n",
       "      <td>1680</td>\n",
       "      <td>8080</td>\n",
       "      <td>0</td>\n",
       "      <td>1680</td>\n",
       "      <td>0</td>\n",
       "      <td>1800</td>\n",
       "      <td>7503</td>\n",
       "      <td>0</td>\n",
       "      <td>0</td>\n",
       "      <td>0</td>\n",
       "      <td>...</td>\n",
       "      <td>0</td>\n",
       "      <td>0</td>\n",
       "      <td>0</td>\n",
       "      <td>0</td>\n",
       "      <td>0</td>\n",
       "      <td>0</td>\n",
       "      <td>0</td>\n",
       "      <td>0</td>\n",
       "      <td>0</td>\n",
       "      <td>0</td>\n",
       "    </tr>\n",
       "    <tr>\n",
       "      <th>...</th>\n",
       "      <td>...</td>\n",
       "      <td>...</td>\n",
       "      <td>...</td>\n",
       "      <td>...</td>\n",
       "      <td>...</td>\n",
       "      <td>...</td>\n",
       "      <td>...</td>\n",
       "      <td>...</td>\n",
       "      <td>...</td>\n",
       "      <td>...</td>\n",
       "      <td>...</td>\n",
       "      <td>...</td>\n",
       "      <td>...</td>\n",
       "      <td>...</td>\n",
       "      <td>...</td>\n",
       "      <td>...</td>\n",
       "      <td>...</td>\n",
       "      <td>...</td>\n",
       "      <td>...</td>\n",
       "      <td>...</td>\n",
       "      <td>...</td>\n",
       "    </tr>\n",
       "    <tr>\n",
       "      <th>21608</th>\n",
       "      <td>1530</td>\n",
       "      <td>1131</td>\n",
       "      <td>0</td>\n",
       "      <td>1530</td>\n",
       "      <td>0</td>\n",
       "      <td>1530</td>\n",
       "      <td>1509</td>\n",
       "      <td>1</td>\n",
       "      <td>0</td>\n",
       "      <td>0</td>\n",
       "      <td>...</td>\n",
       "      <td>0</td>\n",
       "      <td>0</td>\n",
       "      <td>0</td>\n",
       "      <td>0</td>\n",
       "      <td>0</td>\n",
       "      <td>0</td>\n",
       "      <td>0</td>\n",
       "      <td>0</td>\n",
       "      <td>0</td>\n",
       "      <td>0</td>\n",
       "    </tr>\n",
       "    <tr>\n",
       "      <th>21609</th>\n",
       "      <td>2310</td>\n",
       "      <td>5813</td>\n",
       "      <td>0</td>\n",
       "      <td>2310</td>\n",
       "      <td>0</td>\n",
       "      <td>1830</td>\n",
       "      <td>7200</td>\n",
       "      <td>0</td>\n",
       "      <td>0</td>\n",
       "      <td>1</td>\n",
       "      <td>...</td>\n",
       "      <td>0</td>\n",
       "      <td>0</td>\n",
       "      <td>0</td>\n",
       "      <td>0</td>\n",
       "      <td>0</td>\n",
       "      <td>0</td>\n",
       "      <td>0</td>\n",
       "      <td>0</td>\n",
       "      <td>0</td>\n",
       "      <td>0</td>\n",
       "    </tr>\n",
       "    <tr>\n",
       "      <th>21610</th>\n",
       "      <td>1020</td>\n",
       "      <td>1350</td>\n",
       "      <td>0</td>\n",
       "      <td>1020</td>\n",
       "      <td>0</td>\n",
       "      <td>1020</td>\n",
       "      <td>2007</td>\n",
       "      <td>0</td>\n",
       "      <td>0</td>\n",
       "      <td>1</td>\n",
       "      <td>...</td>\n",
       "      <td>0</td>\n",
       "      <td>0</td>\n",
       "      <td>0</td>\n",
       "      <td>0</td>\n",
       "      <td>0</td>\n",
       "      <td>0</td>\n",
       "      <td>0</td>\n",
       "      <td>0</td>\n",
       "      <td>0</td>\n",
       "      <td>0</td>\n",
       "    </tr>\n",
       "    <tr>\n",
       "      <th>21611</th>\n",
       "      <td>1600</td>\n",
       "      <td>2388</td>\n",
       "      <td>0</td>\n",
       "      <td>1600</td>\n",
       "      <td>0</td>\n",
       "      <td>1410</td>\n",
       "      <td>1287</td>\n",
       "      <td>0</td>\n",
       "      <td>0</td>\n",
       "      <td>1</td>\n",
       "      <td>...</td>\n",
       "      <td>0</td>\n",
       "      <td>0</td>\n",
       "      <td>0</td>\n",
       "      <td>0</td>\n",
       "      <td>0</td>\n",
       "      <td>0</td>\n",
       "      <td>0</td>\n",
       "      <td>0</td>\n",
       "      <td>0</td>\n",
       "      <td>0</td>\n",
       "    </tr>\n",
       "    <tr>\n",
       "      <th>21612</th>\n",
       "      <td>1020</td>\n",
       "      <td>1076</td>\n",
       "      <td>0</td>\n",
       "      <td>1020</td>\n",
       "      <td>0</td>\n",
       "      <td>1020</td>\n",
       "      <td>1357</td>\n",
       "      <td>0</td>\n",
       "      <td>0</td>\n",
       "      <td>1</td>\n",
       "      <td>...</td>\n",
       "      <td>0</td>\n",
       "      <td>0</td>\n",
       "      <td>0</td>\n",
       "      <td>0</td>\n",
       "      <td>0</td>\n",
       "      <td>0</td>\n",
       "      <td>0</td>\n",
       "      <td>0</td>\n",
       "      <td>0</td>\n",
       "      <td>0</td>\n",
       "    </tr>\n",
       "  </tbody>\n",
       "</table>\n",
       "<p>15392 rows × 28 columns</p>\n",
       "</div>"
      ],
      "text/plain": [
       "       sqft_living  sqft_lot  waterfront  sqft_above  sqft_basement  \\\n",
       "0             1180      5650           0        1180              0   \n",
       "1             2570      7242           0        2170            400   \n",
       "2              770     10000           0         770              0   \n",
       "3             1960      5000           0        1050            910   \n",
       "4             1680      8080           0        1680              0   \n",
       "...            ...       ...         ...         ...            ...   \n",
       "21608         1530      1131           0        1530              0   \n",
       "21609         2310      5813           0        2310              0   \n",
       "21610         1020      1350           0        1020              0   \n",
       "21611         1600      2388           0        1600              0   \n",
       "21612         1020      1076           0        1020              0   \n",
       "\n",
       "       sqft_living15  sqft_lot15  3  4  2  ...  1.75  2.25  1.5  2.75  3.5  \\\n",
       "0               1340        5650  0  0  0  ...     0     0    0     0    0   \n",
       "1               1690        7639  0  0  1  ...     0     1    0     0    0   \n",
       "2               2720        8062  0  0  0  ...     0     0    0     0    0   \n",
       "3               1360        5000  0  0  0  ...     0     0    0     0    0   \n",
       "4               1800        7503  0  0  0  ...     0     0    0     0    0   \n",
       "...              ...         ... .. .. ..  ...   ...   ...  ...   ...  ...   \n",
       "21608           1530        1509  1  0  0  ...     0     0    0     0    0   \n",
       "21609           1830        7200  0  0  1  ...     0     0    0     0    0   \n",
       "21610           1020        2007  0  0  1  ...     0     0    0     0    0   \n",
       "21611           1410        1287  0  0  1  ...     0     0    0     0    0   \n",
       "21612           1020        1357  0  0  1  ...     0     0    0     0    0   \n",
       "\n",
       "       3.25  10  11  12  13  \n",
       "0         0   0   0   0   0  \n",
       "1         0   0   0   0   0  \n",
       "2         0   0   0   0   0  \n",
       "3         0   0   0   0   0  \n",
       "4         0   0   0   0   0  \n",
       "...     ...  ..  ..  ..  ..  \n",
       "21608     0   0   0   0   0  \n",
       "21609     0   0   0   0   0  \n",
       "21610     0   0   0   0   0  \n",
       "21611     0   0   0   0   0  \n",
       "21612     0   0   0   0   0  \n",
       "\n",
       "[15392 rows x 28 columns]"
      ]
     },
     "execution_count": 69,
     "metadata": {},
     "output_type": "execute_result"
    }
   ],
   "source": [
    "X = housing[col_list]\n",
    "X"
   ]
  },
  {
   "cell_type": "code",
   "execution_count": 70,
   "metadata": {},
   "outputs": [
    {
     "data": {
      "text/plain": [
       "array([[ 1180,  5650,     0, ...,     0,     0,     0],\n",
       "       [ 2570,  7242,     0, ...,     0,     0,     0],\n",
       "       [  770, 10000,     0, ...,     0,     0,     0],\n",
       "       ...,\n",
       "       [ 1020,  1350,     0, ...,     0,     0,     0],\n",
       "       [ 1600,  2388,     0, ...,     0,     0,     0],\n",
       "       [ 1020,  1076,     0, ...,     0,     0,     0]], dtype=int64)"
      ]
     },
     "execution_count": 70,
     "metadata": {},
     "output_type": "execute_result"
    }
   ],
   "source": [
    "X.values"
   ]
  },
  {
   "cell_type": "code",
   "execution_count": 71,
   "metadata": {},
   "outputs": [
    {
     "name": "stdout",
     "output_type": "stream",
     "text": [
      "0\n",
      "1\n",
      "2\n",
      "3\n",
      "4\n",
      "5\n",
      "6\n",
      "7\n",
      "8\n",
      "9\n",
      "10\n",
      "11\n",
      "12\n",
      "13\n",
      "14\n",
      "15\n",
      "16\n",
      "17\n",
      "18\n",
      "19\n",
      "20\n",
      "21\n",
      "22\n",
      "23\n",
      "24\n",
      "25\n",
      "26\n",
      "27\n"
     ]
    }
   ],
   "source": [
    "for i in range(len(X.columns)):\n",
    "    print(i)"
   ]
  },
  {
   "cell_type": "code",
   "execution_count": 72,
   "metadata": {},
   "outputs": [
    {
     "name": "stderr",
     "output_type": "stream",
     "text": [
      "c:\\Users\\dell pc\\anaconda3\\lib\\site-packages\\statsmodels\\stats\\outliers_influence.py:195: RuntimeWarning: divide by zero encountered in double_scalars\n",
      "  vif = 1. / (1. - r_squared_i)\n"
     ]
    },
    {
     "name": "stdout",
     "output_type": "stream",
     "text": [
      "          feature          VIF\n",
      "0     sqft_living          inf\n",
      "1        sqft_lot     5.200162\n",
      "2      waterfront     1.031867\n",
      "3      sqft_above          inf\n",
      "4   sqft_basement          inf\n",
      "5   sqft_living15     2.164503\n",
      "6      sqft_lot15     5.090677\n",
      "7               3   540.376338\n",
      "8               4    17.990508\n",
      "9               2  4796.840096\n",
      "10              5   179.997286\n",
      "11              6  1590.973848\n",
      "12              1  8497.376299\n",
      "13              7  3852.384267\n",
      "14              0     1.115823\n",
      "15              8  3187.852270\n",
      "16              9   900.530495\n",
      "17            2.5    70.214625\n",
      "18           1.75     1.139235\n",
      "19           2.25     1.095687\n",
      "20            1.5  1541.001388\n",
      "21           2.75     1.075939\n",
      "22            3.5     7.013743\n",
      "23           3.25     1.060706\n",
      "24             10   132.211459\n",
      "25             11     9.023576\n",
      "26             12          NaN\n",
      "27             13          NaN\n"
     ]
    },
    {
     "name": "stderr",
     "output_type": "stream",
     "text": [
      "c:\\Users\\dell pc\\anaconda3\\lib\\site-packages\\statsmodels\\regression\\linear_model.py:1752: RuntimeWarning: invalid value encountered in double_scalars\n",
      "  return 1 - self.ssr/self.centered_tss\n"
     ]
    }
   ],
   "source": [
    "from statsmodels.stats.outliers_influence import variance_inflation_factor \n",
    "col_list = []\n",
    "for col in housing.columns:\n",
    "    if ((housing[col].dtype != 'object') & (col != 'price') ):\n",
    "        col_list.append(col)\n",
    "\n",
    "X = housing[col_list]\n",
    "vif_data = pd.DataFrame() \n",
    "vif_data[\"feature\"] = X.columns \n",
    "vif_data[\"VIF\"] = [variance_inflation_factor(X.values, i) for i in range(len(X.columns))] \n",
    "print(vif_data)"
   ]
  },
  {
   "cell_type": "code",
   "execution_count": 74,
   "metadata": {},
   "outputs": [
    {
     "name": "stderr",
     "output_type": "stream",
     "text": [
      "c:\\Users\\dell pc\\anaconda3\\lib\\site-packages\\statsmodels\\stats\\outliers_influence.py:195: RuntimeWarning: divide by zero encountered in double_scalars\n",
      "  vif = 1. / (1. - r_squared_i)\n"
     ]
    },
    {
     "name": "stdout",
     "output_type": "stream",
     "text": [
      "          feature        VIF\n",
      "0     sqft_living        inf\n",
      "1        sqft_lot  30.901352\n",
      "2      waterfront   1.033666\n",
      "3      sqft_above        inf\n",
      "4   sqft_basement        inf\n",
      "5   sqft_living15  34.548030\n",
      "6      sqft_lot15  33.953184\n",
      "7               3   1.553328\n",
      "8               4   1.042979\n",
      "9               2   3.707877\n",
      "10              5   1.466018\n",
      "11              6   5.852334\n",
      "12              7  26.875968\n",
      "13              0  17.976006\n",
      "14              8  19.346382\n",
      "15              9   5.654734\n",
      "16            2.5   1.057658\n",
      "17           1.75   1.356152\n",
      "18           2.25   1.217819\n",
      "19            1.5   1.403625\n",
      "20           2.75   1.117010\n",
      "21            3.5   1.007977\n",
      "22           3.25   1.075296\n",
      "23             10   1.661030\n",
      "24             11   1.037240\n",
      "25             12        NaN\n",
      "26             13        NaN\n"
     ]
    },
    {
     "name": "stderr",
     "output_type": "stream",
     "text": [
      "c:\\Users\\dell pc\\anaconda3\\lib\\site-packages\\statsmodels\\regression\\linear_model.py:1754: RuntimeWarning: invalid value encountered in double_scalars\n",
      "  return 1 - self.ssr/self.uncentered_tss\n"
     ]
    }
   ],
   "source": [
    "housing=housing.drop([1], axis = 1)\n",
    "col_list = []\n",
    "for col in housing.columns:\n",
    "    if ((housing[col].dtype != 'object') & (col != 'price') ):\n",
    "        col_list.append(col)\n",
    "\n",
    "X = housing[col_list]\n",
    "vif_data = pd.DataFrame() \n",
    "vif_data[\"feature\"] = X.columns \n",
    "vif_data[\"VIF\"] = [variance_inflation_factor(X.values, i) for i in range(len(X.columns))] \n",
    "print(vif_data)"
   ]
  },
  {
   "cell_type": "code",
   "execution_count": 75,
   "metadata": {},
   "outputs": [
    {
     "name": "stderr",
     "output_type": "stream",
     "text": [
      "c:\\Users\\dell pc\\anaconda3\\lib\\site-packages\\statsmodels\\stats\\outliers_influence.py:195: RuntimeWarning: divide by zero encountered in double_scalars\n",
      "  vif = 1. / (1. - r_squared_i)\n"
     ]
    },
    {
     "name": "stdout",
     "output_type": "stream",
     "text": [
      "          feature        VIF\n",
      "0     sqft_living        inf\n",
      "1        sqft_lot  30.873628\n",
      "2      waterfront   1.033651\n",
      "3      sqft_above        inf\n",
      "4   sqft_basement        inf\n",
      "5      sqft_lot15  33.452412\n",
      "6               3   1.534799\n",
      "7               4   1.028689\n",
      "8               2   3.707134\n",
      "9               5   1.359978\n",
      "10              6   4.840304\n",
      "11              7  21.376976\n",
      "12              0  17.547779\n",
      "13              8  14.945643\n",
      "14              9   4.515712\n",
      "15            2.5   1.057238\n",
      "16           1.75   1.356104\n",
      "17           2.25   1.217618\n",
      "18            1.5   1.397266\n",
      "19           2.75   1.116976\n",
      "20            3.5   1.007503\n",
      "21           3.25   1.074498\n",
      "22             10   1.495015\n",
      "23             11   1.031156\n",
      "24             12        NaN\n",
      "25             13        NaN\n"
     ]
    },
    {
     "name": "stderr",
     "output_type": "stream",
     "text": [
      "c:\\Users\\dell pc\\anaconda3\\lib\\site-packages\\statsmodels\\regression\\linear_model.py:1754: RuntimeWarning: invalid value encountered in double_scalars\n",
      "  return 1 - self.ssr/self.uncentered_tss\n"
     ]
    }
   ],
   "source": [
    "housing=housing.drop(['sqft_living15'], axis = 1)\n",
    "col_list = []\n",
    "for col in housing.columns:\n",
    "    if ((housing[col].dtype != 'object') & (col != 'price') ):\n",
    "        col_list.append(col)\n",
    "\n",
    "X = housing[col_list]\n",
    "vif_data = pd.DataFrame() \n",
    "vif_data[\"feature\"] = X.columns \n",
    "vif_data[\"VIF\"] = [variance_inflation_factor(X.values, i) for i in range(len(X.columns))] \n",
    "print(vif_data)"
   ]
  },
  {
   "cell_type": "code",
   "execution_count": 76,
   "metadata": {},
   "outputs": [
    {
     "name": "stderr",
     "output_type": "stream",
     "text": [
      "c:\\Users\\dell pc\\anaconda3\\lib\\site-packages\\statsmodels\\stats\\outliers_influence.py:195: RuntimeWarning: divide by zero encountered in double_scalars\n",
      "  vif = 1. / (1. - r_squared_i)\n"
     ]
    },
    {
     "name": "stdout",
     "output_type": "stream",
     "text": [
      "          feature        VIF\n",
      "0     sqft_living        inf\n",
      "1        sqft_lot   9.712359\n",
      "2      waterfront   1.033234\n",
      "3      sqft_above        inf\n",
      "4   sqft_basement        inf\n",
      "5               3   1.514903\n",
      "6               4   1.025806\n",
      "7               2   3.658332\n",
      "8               5   1.333749\n",
      "9               6   4.683071\n",
      "10              7  20.720549\n",
      "11              0  17.545122\n",
      "12              8  14.536737\n",
      "13              9   4.398142\n",
      "14            2.5   1.055369\n",
      "15           1.75   1.355718\n",
      "16           2.25   1.216100\n",
      "17            1.5   1.380972\n",
      "18           2.75   1.116772\n",
      "19            3.5   1.006995\n",
      "20           3.25   1.074443\n",
      "21             10   1.482913\n",
      "22             11   1.030710\n",
      "23             12        NaN\n",
      "24             13        NaN\n"
     ]
    },
    {
     "name": "stderr",
     "output_type": "stream",
     "text": [
      "c:\\Users\\dell pc\\anaconda3\\lib\\site-packages\\statsmodels\\regression\\linear_model.py:1754: RuntimeWarning: invalid value encountered in double_scalars\n",
      "  return 1 - self.ssr/self.uncentered_tss\n"
     ]
    }
   ],
   "source": [
    "housing=housing.drop(['sqft_lot15'], axis = 1)\n",
    "col_list = []\n",
    "for col in housing.columns:\n",
    "    if ((housing[col].dtype != 'object') & (col != 'price') ):\n",
    "        col_list.append(col)\n",
    "\n",
    "X = housing[col_list]\n",
    "vif_data = pd.DataFrame() \n",
    "vif_data[\"feature\"] = X.columns \n",
    "vif_data[\"VIF\"] = [variance_inflation_factor(X.values, i) for i in range(len(X.columns))] \n",
    "print(vif_data)"
   ]
  },
  {
   "cell_type": "code",
   "execution_count": 77,
   "metadata": {},
   "outputs": [
    {
     "name": "stderr",
     "output_type": "stream",
     "text": [
      "c:\\Users\\dell pc\\anaconda3\\lib\\site-packages\\statsmodels\\stats\\outliers_influence.py:195: RuntimeWarning: divide by zero encountered in double_scalars\n",
      "  vif = 1. / (1. - r_squared_i)\n"
     ]
    },
    {
     "name": "stdout",
     "output_type": "stream",
     "text": [
      "          feature       VIF\n",
      "0     sqft_living       inf\n",
      "1        sqft_lot  9.142973\n",
      "2      waterfront  1.024680\n",
      "3      sqft_above       inf\n",
      "4   sqft_basement       inf\n",
      "5               3  1.456625\n",
      "6               4  1.004976\n",
      "7               2  3.654556\n",
      "8               5  1.037183\n",
      "9               6  1.293959\n",
      "10              0  9.426700\n",
      "11              8  2.072528\n",
      "12              9  1.425392\n",
      "13            2.5  1.054889\n",
      "14           1.75  1.343282\n",
      "15           2.25  1.216074\n",
      "16            1.5  1.373007\n",
      "17           2.75  1.114339\n",
      "18            3.5  1.006010\n",
      "19           3.25  1.073736\n",
      "20             10  1.088371\n",
      "21             11  1.010872\n",
      "22             12       NaN\n",
      "23             13       NaN\n"
     ]
    },
    {
     "name": "stderr",
     "output_type": "stream",
     "text": [
      "c:\\Users\\dell pc\\anaconda3\\lib\\site-packages\\statsmodels\\regression\\linear_model.py:1754: RuntimeWarning: invalid value encountered in double_scalars\n",
      "  return 1 - self.ssr/self.uncentered_tss\n"
     ]
    }
   ],
   "source": [
    "housing=housing.drop([7], axis = 1)\n",
    "col_list = []\n",
    "for col in housing.columns:\n",
    "    if ((housing[col].dtype != 'object') & (col != 'price') ):\n",
    "        col_list.append(col)\n",
    "\n",
    "X = housing[col_list]\n",
    "vif_data = pd.DataFrame() \n",
    "vif_data[\"feature\"] = X.columns \n",
    "vif_data[\"VIF\"] = [variance_inflation_factor(X.values, i) for i in range(len(X.columns))] \n",
    "print(vif_data)"
   ]
  },
  {
   "cell_type": "code",
   "execution_count": 78,
   "metadata": {},
   "outputs": [
    {
     "name": "stderr",
     "output_type": "stream",
     "text": [
      "c:\\Users\\dell pc\\anaconda3\\lib\\site-packages\\statsmodels\\stats\\outliers_influence.py:195: RuntimeWarning: divide by zero encountered in double_scalars\n",
      "  vif = 1. / (1. - r_squared_i)\n"
     ]
    },
    {
     "name": "stdout",
     "output_type": "stream",
     "text": [
      "          feature       VIF\n",
      "0     sqft_living       inf\n",
      "1      waterfront  1.020658\n",
      "2      sqft_above       inf\n",
      "3   sqft_basement       inf\n",
      "4               3  1.215150\n",
      "5               4  1.004382\n",
      "6               2  2.744537\n",
      "7               5  1.035309\n",
      "8               6  1.278533\n",
      "9               0  8.826263\n",
      "10              8  2.054804\n",
      "11              9  1.416576\n",
      "12            2.5  1.028041\n",
      "13           1.75  1.337212\n",
      "14           2.25  1.204562\n",
      "15            1.5  1.246278\n",
      "16           2.75  1.114299\n",
      "17            3.5  1.003241\n",
      "18           3.25  1.073049\n",
      "19             10  1.087712\n",
      "20             11  1.010868\n",
      "21             12       NaN\n",
      "22             13       NaN\n"
     ]
    },
    {
     "name": "stderr",
     "output_type": "stream",
     "text": [
      "c:\\Users\\dell pc\\anaconda3\\lib\\site-packages\\statsmodels\\regression\\linear_model.py:1754: RuntimeWarning: invalid value encountered in double_scalars\n",
      "  return 1 - self.ssr/self.uncentered_tss\n"
     ]
    }
   ],
   "source": [
    "housing=housing.drop(['sqft_lot'], axis = 1)\n",
    "col_list = []\n",
    "for col in housing.columns:\n",
    "    if ((housing[col].dtype != 'object') & (col != 'price') ):\n",
    "        col_list.append(col)\n",
    "\n",
    "X = housing[col_list]\n",
    "vif_data = pd.DataFrame() \n",
    "vif_data[\"feature\"] = X.columns \n",
    "vif_data[\"VIF\"] = [variance_inflation_factor(X.values, i) for i in range(len(X.columns))] \n",
    "print(vif_data)"
   ]
  },
  {
   "cell_type": "code",
   "execution_count": 79,
   "metadata": {},
   "outputs": [
    {
     "name": "stderr",
     "output_type": "stream",
     "text": [
      "c:\\Users\\dell pc\\anaconda3\\lib\\site-packages\\statsmodels\\stats\\outliers_influence.py:195: RuntimeWarning: divide by zero encountered in double_scalars\n",
      "  vif = 1. / (1. - r_squared_i)\n"
     ]
    },
    {
     "name": "stdout",
     "output_type": "stream",
     "text": [
      "          feature       VIF\n",
      "0     sqft_living       inf\n",
      "1      waterfront  1.004289\n",
      "2      sqft_above       inf\n",
      "3   sqft_basement       inf\n",
      "4               3  1.199231\n",
      "5               4  1.000805\n",
      "6               2  2.737163\n",
      "7               5  1.014623\n",
      "8               6  1.155353\n",
      "9               8  1.987717\n",
      "10              9  1.327322\n",
      "11            2.5  1.027972\n",
      "12           1.75  1.324053\n",
      "13           2.25  1.201195\n",
      "14            1.5  1.245219\n",
      "15           2.75  1.112404\n",
      "16            3.5  1.003212\n",
      "17           3.25  1.072909\n",
      "18             10  1.057884\n",
      "19             11  1.005766\n",
      "20             12       NaN\n",
      "21             13       NaN\n"
     ]
    },
    {
     "name": "stderr",
     "output_type": "stream",
     "text": [
      "c:\\Users\\dell pc\\anaconda3\\lib\\site-packages\\statsmodels\\regression\\linear_model.py:1754: RuntimeWarning: invalid value encountered in double_scalars\n",
      "  return 1 - self.ssr/self.uncentered_tss\n"
     ]
    }
   ],
   "source": [
    "housing=housing.drop([0], axis = 1)\n",
    "col_list = []\n",
    "for col in housing.columns:\n",
    "    if ((housing[col].dtype != 'object') & (col != 'price') ):\n",
    "        col_list.append(col)\n",
    "\n",
    "X = housing[col_list]\n",
    "vif_data = pd.DataFrame() \n",
    "vif_data[\"feature\"] = X.columns \n",
    "vif_data[\"VIF\"] = [variance_inflation_factor(X.values, i) for i in range(len(X.columns))] \n",
    "print(vif_data)"
   ]
  },
  {
   "cell_type": "code",
   "execution_count": 80,
   "metadata": {},
   "outputs": [],
   "source": [
    "housing=housing.drop([12], axis = 1)\n",
    "housing=housing.drop([13], axis = 1)"
   ]
  },
  {
   "cell_type": "code",
   "execution_count": 83,
   "metadata": {},
   "outputs": [
    {
     "data": {
      "text/plain": [
       "Index([        'price',   'sqft_living',    'waterfront',    'sqft_above',\n",
       "       'sqft_basement',               3,               4,               2,\n",
       "                     5,               6,               8,               9,\n",
       "                   2.5,            1.75,            2.25,             1.5,\n",
       "                  2.75,             3.5,            3.25,              10,\n",
       "                    11],\n",
       "      dtype='object')"
      ]
     },
     "execution_count": 83,
     "metadata": {},
     "output_type": "execute_result"
    }
   ],
   "source": [
    "housing.columns"
   ]
  },
  {
   "cell_type": "code",
   "execution_count": 84,
   "metadata": {},
   "outputs": [],
   "source": [
    "x=housing.drop(columns=['price'])\n",
    "y=housing['price']"
   ]
  },
  {
   "cell_type": "code",
   "execution_count": 86,
   "metadata": {},
   "outputs": [
    {
     "name": "stderr",
     "output_type": "stream",
     "text": [
      "c:\\Users\\dell pc\\anaconda3\\lib\\site-packages\\sklearn\\utils\\validation.py:1688: FutureWarning: Feature names only support names that are all strings. Got feature names with dtypes: ['float', 'int', 'str']. An error will be raised in 1.2.\n",
      "  warnings.warn(\n",
      "c:\\Users\\dell pc\\anaconda3\\lib\\site-packages\\sklearn\\utils\\validation.py:1688: FutureWarning: Feature names only support names that are all strings. Got feature names with dtypes: ['float', 'int', 'str']. An error will be raised in 1.2.\n",
      "  warnings.warn(\n"
     ]
    }
   ],
   "source": [
    "from sklearn.preprocessing import StandardScaler\n",
    "scaler =StandardScaler()\n",
    "X_scaled = scaler.fit_transform(X)"
   ]
  },
  {
   "cell_type": "code",
   "execution_count": 89,
   "metadata": {},
   "outputs": [],
   "source": [
    "from sklearn.linear_model import Ridge,Lasso,RidgeCV, LassoCV, ElasticNet\n",
    "from sklearn.model_selection import train_test_split\n",
    "import statsmodels.api as sm"
   ]
  },
  {
   "cell_type": "code",
   "execution_count": 90,
   "metadata": {},
   "outputs": [],
   "source": [
    "x_train, x_test, y_train, y_test=train_test_split(x,y,train_size=0.8, random_state=0)"
   ]
  },
  {
   "cell_type": "code",
   "execution_count": 91,
   "metadata": {},
   "outputs": [
    {
     "name": "stdout",
     "output_type": "stream",
     "text": [
      "(12313, 20)\n",
      "(12313,)\n",
      "(3079, 20)\n",
      "(3079,)\n"
     ]
    }
   ],
   "source": [
    "print(x_train.shape)\n",
    "print(y_train.shape)\n",
    "print(x_test.shape)\n",
    "print(y_test.shape)"
   ]
  },
  {
   "cell_type": "code",
   "execution_count": 92,
   "metadata": {},
   "outputs": [
    {
     "data": {
      "text/plain": [
       "(       sqft_living  waterfront  sqft_above  sqft_basement  3  4  2  5  6  8  \\\n",
       " 10965          940           0         940              0  0  0  0  1  0  0   \n",
       " 8483          2540           0        1820            720  0  0  1  0  0  1   \n",
       " 16321         1470           0        1160            310  0  0  1  0  0  1   \n",
       " 16135         1600           0        1600              0  0  0  1  0  0  0   \n",
       " 7055          1770           0        1770              0  0  0  0  0  0  0   \n",
       " ...            ...         ...         ...            ... .. .. .. .. .. ..   \n",
       " 18290         1170           0         800            370  0  0  0  0  1  0   \n",
       " 4594          3230           0        2430            800  0  0  1  0  0  1   \n",
       " 13712         2490           0        2490              0  0  0  1  0  0  1   \n",
       " 15044         1660           0        1160            500  0  0  0  0  0  0   \n",
       " 3825          1290           0        1290              0  0  0  0  0  0  0   \n",
       " \n",
       "        9  2.5  1.75  2.25  1.5  2.75  3.5  3.25  10  11  \n",
       " 10965  0    0     0     0    0     0    0     0   0   0  \n",
       " 8483   0    0     0     0    0     0    0     0   0   0  \n",
       " 16321  0    0     0     0    0     0    0     0   0   0  \n",
       " 16135  0    0     0     0    0     0    0     0   0   0  \n",
       " 7055   0    0     0     0    0     0    0     0   0   0  \n",
       " ...   ..  ...   ...   ...  ...   ...  ...   ...  ..  ..  \n",
       " 18290  0    0     0     0    0     0    0     0   0   0  \n",
       " 4594   0    0     0     0    0     0    0     0   0   0  \n",
       " 13712  0    0     0     0    0     0    0     0   0   0  \n",
       " 15044  0    0     1     0    0     0    0     0   0   0  \n",
       " 3825   0    0     1     0    0     0    0     0   0   0  \n",
       " \n",
       " [12313 rows x 20 columns],\n",
       " 10965    283000\n",
       " 8483     799990\n",
       " 16321    420000\n",
       " 16135    270000\n",
       " 7055     241000\n",
       "           ...  \n",
       " 18290    397000\n",
       " 4594     850000\n",
       " 13712    700000\n",
       " 15044    484000\n",
       " 3825     214946\n",
       " Name: price, Length: 12313, dtype: int64,\n",
       "        sqft_living  waterfront  sqft_above  sqft_basement  3  4  2  5  6  8  \\\n",
       " 17913         2270           0        1370            900  0  0  0  0  0  0   \n",
       " 18548         2410           0        2070            340  0  0  0  0  0  1   \n",
       " 3328          1295           0        1105            190  0  0  1  0  0  0   \n",
       " 8548          2310           0        2310              0  0  0  1  0  0  1   \n",
       " 11724         1980           0        1980              0  0  0  0  0  0  0   \n",
       " ...            ...         ...         ...            ... .. .. .. .. .. ..   \n",
       " 6898          1790           0        1190            600  0  0  0  0  0  0   \n",
       " 14758         2000           0        1220            780  0  0  0  0  0  0   \n",
       " 8599          2080           0        2080              0  0  0  0  0  0  1   \n",
       " 325           1240           0         960            280  0  0  0  0  1  0   \n",
       " 6496          1210           0        1210              0  0  0  0  0  0  0   \n",
       " \n",
       "        9  2.5  1.75  2.25  1.5  2.75  3.5  3.25  10  11  \n",
       " 17913  0    0     1     0    0     0    0     0   0   0  \n",
       " 18548  0    0     0     0    1     1    0     0   0   0  \n",
       " 3328   1    0     0     0    0     0    0     0   0   0  \n",
       " 8548   0    0     0     0    0     0    0     0   0   0  \n",
       " 11724  0    0     1     0    0     0    0     0   0   0  \n",
       " ...   ..  ...   ...   ...  ...   ...  ...   ...  ..  ..  \n",
       " 6898   0    0     0     0    0     0    0     0   0   0  \n",
       " 14758  0    0     0     0    1     0    0     0   0   0  \n",
       " 8599   0    0     0     0    0     0    0     0   0   0  \n",
       " 325    0    0     0     0    0     0    0     0   0   0  \n",
       " 6496   0    0     0     0    0     0    0     0   0   0  \n",
       " \n",
       " [3079 rows x 20 columns],\n",
       " 17913    292000\n",
       " 18548    745000\n",
       " 3328     487028\n",
       " 8548     330000\n",
       " 11724    306000\n",
       "           ...  \n",
       " 6898     336000\n",
       " 14758    530000\n",
       " 8599     635000\n",
       " 325      240500\n",
       " 6496     483300\n",
       " Name: price, Length: 3079, dtype: int64)"
      ]
     },
     "execution_count": 92,
     "metadata": {},
     "output_type": "execute_result"
    }
   ],
   "source": [
    "x_train , y_train, x_test, y_test"
   ]
  },
  {
   "cell_type": "code",
   "execution_count": 93,
   "metadata": {},
   "outputs": [],
   "source": [
    "from sklearn.linear_model import LinearRegression\n",
    "lr=LinearRegression()"
   ]
  },
  {
   "cell_type": "code",
   "execution_count": 94,
   "metadata": {},
   "outputs": [
    {
     "name": "stderr",
     "output_type": "stream",
     "text": [
      "c:\\Users\\dell pc\\anaconda3\\lib\\site-packages\\sklearn\\utils\\validation.py:1688: FutureWarning: Feature names only support names that are all strings. Got feature names with dtypes: ['float', 'int', 'str']. An error will be raised in 1.2.\n",
      "  warnings.warn(\n"
     ]
    },
    {
     "data": {
      "text/plain": [
       "LinearRegression()"
      ]
     },
     "execution_count": 94,
     "metadata": {},
     "output_type": "execute_result"
    }
   ],
   "source": [
    "lr.fit(x_train, y_train)"
   ]
  },
  {
   "cell_type": "code",
   "execution_count": 95,
   "metadata": {},
   "outputs": [
    {
     "name": "stderr",
     "output_type": "stream",
     "text": [
      "c:\\Users\\dell pc\\anaconda3\\lib\\site-packages\\sklearn\\utils\\validation.py:1688: FutureWarning: Feature names only support names that are all strings. Got feature names with dtypes: ['float', 'int', 'str']. An error will be raised in 1.2.\n",
      "  warnings.warn(\n"
     ]
    }
   ],
   "source": [
    "predictions=lr.predict(x_test)"
   ]
  },
  {
   "cell_type": "code",
   "execution_count": 96,
   "metadata": {},
   "outputs": [
    {
     "data": {
      "text/plain": [
       "array([493488.36511354, 653520.36511354, 609744.36511354, ...,\n",
       "       494949.75844031, 298928.36511354, 333744.36511354])"
      ]
     },
     "execution_count": 96,
     "metadata": {},
     "output_type": "execute_result"
    }
   ],
   "source": [
    "predictions"
   ]
  },
  {
   "cell_type": "code",
   "execution_count": 97,
   "metadata": {},
   "outputs": [],
   "source": [
    "error_pred=pd.DataFrame(columns={'Actual_data','Prediction_data'})"
   ]
  },
  {
   "cell_type": "code",
   "execution_count": 98,
   "metadata": {},
   "outputs": [
    {
     "data": {
      "text/html": [
       "<div>\n",
       "<style scoped>\n",
       "    .dataframe tbody tr th:only-of-type {\n",
       "        vertical-align: middle;\n",
       "    }\n",
       "\n",
       "    .dataframe tbody tr th {\n",
       "        vertical-align: top;\n",
       "    }\n",
       "\n",
       "    .dataframe thead th {\n",
       "        text-align: right;\n",
       "    }\n",
       "</style>\n",
       "<table border=\"1\" class=\"dataframe\">\n",
       "  <thead>\n",
       "    <tr style=\"text-align: right;\">\n",
       "      <th></th>\n",
       "      <th>Actual_data</th>\n",
       "      <th>Prediction_data</th>\n",
       "    </tr>\n",
       "  </thead>\n",
       "  <tbody>\n",
       "  </tbody>\n",
       "</table>\n",
       "</div>"
      ],
      "text/plain": [
       "Empty DataFrame\n",
       "Columns: [Actual_data, Prediction_data]\n",
       "Index: []"
      ]
     },
     "execution_count": 98,
     "metadata": {},
     "output_type": "execute_result"
    }
   ],
   "source": [
    "error_pred"
   ]
  },
  {
   "cell_type": "code",
   "execution_count": 99,
   "metadata": {},
   "outputs": [
    {
     "data": {
      "text/html": [
       "<div>\n",
       "<style scoped>\n",
       "    .dataframe tbody tr th:only-of-type {\n",
       "        vertical-align: middle;\n",
       "    }\n",
       "\n",
       "    .dataframe tbody tr th {\n",
       "        vertical-align: top;\n",
       "    }\n",
       "\n",
       "    .dataframe thead th {\n",
       "        text-align: right;\n",
       "    }\n",
       "</style>\n",
       "<table border=\"1\" class=\"dataframe\">\n",
       "  <thead>\n",
       "    <tr style=\"text-align: right;\">\n",
       "      <th></th>\n",
       "      <th>Actual_data</th>\n",
       "      <th>Prediction_data</th>\n",
       "    </tr>\n",
       "  </thead>\n",
       "  <tbody>\n",
       "    <tr>\n",
       "      <th>17913</th>\n",
       "      <td>292000</td>\n",
       "      <td>493488.365114</td>\n",
       "    </tr>\n",
       "    <tr>\n",
       "      <th>18548</th>\n",
       "      <td>745000</td>\n",
       "      <td>653520.365114</td>\n",
       "    </tr>\n",
       "    <tr>\n",
       "      <th>3328</th>\n",
       "      <td>487028</td>\n",
       "      <td>609744.365114</td>\n",
       "    </tr>\n",
       "    <tr>\n",
       "      <th>8548</th>\n",
       "      <td>330000</td>\n",
       "      <td>501861.758440</td>\n",
       "    </tr>\n",
       "    <tr>\n",
       "      <th>11724</th>\n",
       "      <td>306000</td>\n",
       "      <td>395312.365114</td>\n",
       "    </tr>\n",
       "  </tbody>\n",
       "</table>\n",
       "</div>"
      ],
      "text/plain": [
       "       Actual_data  Prediction_data\n",
       "17913       292000    493488.365114\n",
       "18548       745000    653520.365114\n",
       "3328        487028    609744.365114\n",
       "8548        330000    501861.758440\n",
       "11724       306000    395312.365114"
      ]
     },
     "execution_count": 99,
     "metadata": {},
     "output_type": "execute_result"
    }
   ],
   "source": [
    "error_pred['Actual_data']=y_test\n",
    "error_pred['Prediction_data']=predictions\n",
    "error_pred.head()"
   ]
  },
  {
   "cell_type": "code",
   "execution_count": 100,
   "metadata": {},
   "outputs": [],
   "source": [
    "error_pred['Error']=error_pred['Actual_data']-error_pred['Prediction_data']"
   ]
  },
  {
   "cell_type": "code",
   "execution_count": 101,
   "metadata": {},
   "outputs": [
    {
     "data": {
      "text/html": [
       "<div>\n",
       "<style scoped>\n",
       "    .dataframe tbody tr th:only-of-type {\n",
       "        vertical-align: middle;\n",
       "    }\n",
       "\n",
       "    .dataframe tbody tr th {\n",
       "        vertical-align: top;\n",
       "    }\n",
       "\n",
       "    .dataframe thead th {\n",
       "        text-align: right;\n",
       "    }\n",
       "</style>\n",
       "<table border=\"1\" class=\"dataframe\">\n",
       "  <thead>\n",
       "    <tr style=\"text-align: right;\">\n",
       "      <th></th>\n",
       "      <th>Actual_data</th>\n",
       "      <th>Prediction_data</th>\n",
       "      <th>Error</th>\n",
       "    </tr>\n",
       "  </thead>\n",
       "  <tbody>\n",
       "    <tr>\n",
       "      <th>17913</th>\n",
       "      <td>292000</td>\n",
       "      <td>493488.365114</td>\n",
       "      <td>-201488.365114</td>\n",
       "    </tr>\n",
       "    <tr>\n",
       "      <th>18548</th>\n",
       "      <td>745000</td>\n",
       "      <td>653520.365114</td>\n",
       "      <td>91479.634886</td>\n",
       "    </tr>\n",
       "    <tr>\n",
       "      <th>3328</th>\n",
       "      <td>487028</td>\n",
       "      <td>609744.365114</td>\n",
       "      <td>-122716.365114</td>\n",
       "    </tr>\n",
       "    <tr>\n",
       "      <th>8548</th>\n",
       "      <td>330000</td>\n",
       "      <td>501861.758440</td>\n",
       "      <td>-171861.758440</td>\n",
       "    </tr>\n",
       "    <tr>\n",
       "      <th>11724</th>\n",
       "      <td>306000</td>\n",
       "      <td>395312.365114</td>\n",
       "      <td>-89312.365114</td>\n",
       "    </tr>\n",
       "  </tbody>\n",
       "</table>\n",
       "</div>"
      ],
      "text/plain": [
       "       Actual_data  Prediction_data          Error\n",
       "17913       292000    493488.365114 -201488.365114\n",
       "18548       745000    653520.365114   91479.634886\n",
       "3328        487028    609744.365114 -122716.365114\n",
       "8548        330000    501861.758440 -171861.758440\n",
       "11724       306000    395312.365114  -89312.365114"
      ]
     },
     "execution_count": 101,
     "metadata": {},
     "output_type": "execute_result"
    }
   ],
   "source": [
    "error_pred.head()"
   ]
  },
  {
   "cell_type": "code",
   "execution_count": 102,
   "metadata": {},
   "outputs": [],
   "source": [
    "from sklearn.metrics import *"
   ]
  },
  {
   "cell_type": "code",
   "execution_count": 104,
   "metadata": {},
   "outputs": [
    {
     "name": "stderr",
     "output_type": "stream",
     "text": [
      "c:\\Users\\dell pc\\anaconda3\\lib\\site-packages\\sklearn\\utils\\validation.py:1688: FutureWarning: Feature names only support names that are all strings. Got feature names with dtypes: ['float', 'int', 'str']. An error will be raised in 1.2.\n",
      "  warnings.warn(\n"
     ]
    },
    {
     "data": {
      "text/plain": [
       "array([221028.87568281, 580272.36511354, 465792.36511354, ...,\n",
       "       515301.75844031, 413872.36511354, 343807.65678542])"
      ]
     },
     "execution_count": 104,
     "metadata": {},
     "output_type": "execute_result"
    }
   ],
   "source": [
    "train_predict=lr.predict(x_train)\n",
    "train_predict"
   ]
  },
  {
   "cell_type": "code",
   "execution_count": 105,
   "metadata": {},
   "outputs": [
    {
     "data": {
      "text/plain": [
       "0.42741508744850043"
      ]
     },
     "execution_count": 105,
     "metadata": {},
     "output_type": "execute_result"
    }
   ],
   "source": [
    "r2_on_test=r2_score(y_test, predictions)\n",
    "r2_on_test"
   ]
  },
  {
   "cell_type": "code",
   "execution_count": null,
   "metadata": {},
   "outputs": [],
   "source": []
  }
 ],
 "metadata": {
  "kernelspec": {
   "display_name": "Python 3",
   "language": "python",
   "name": "python3"
  },
  "language_info": {
   "codemirror_mode": {
    "name": "ipython",
    "version": 3
   },
   "file_extension": ".py",
   "mimetype": "text/x-python",
   "name": "python",
   "nbconvert_exporter": "python",
   "pygments_lexer": "ipython3",
   "version": "3.8.5"
  }
 },
 "nbformat": 4,
 "nbformat_minor": 2
}
